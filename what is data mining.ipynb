{
 "cells": [
  {
   "cell_type": "code",
   "execution_count": 3,
   "id": "d8ae8bb8-f411-4e01-95c9-d151b20b5034",
   "metadata": {},
   "outputs": [
    {
     "name": "stdin",
     "output_type": "stream",
     "text": [
      "Enter something: 123\n"
     ]
    }
   ],
   "source": [
    "x = input(\"Enter something:\") # By default, gives you back the str"
   ]
  },
  {
   "cell_type": "code",
   "execution_count": 5,
   "id": "9e054211-62cb-4f03-b8cf-fb500ec3c3f8",
   "metadata": {},
   "outputs": [
    {
     "name": "stdout",
     "output_type": "stream",
     "text": [
      "123\n",
      "<class 'str'>\n"
     ]
    }
   ],
   "source": [
    "print(x)\n",
    "print(type(x))"
   ]
  },
  {
   "cell_type": "code",
   "execution_count": null,
   "id": "d25727d6-b393-4d7a-b11c-78da1767ce93",
   "metadata": {},
   "outputs": [],
   "source": []
  },
  {
   "cell_type": "code",
   "execution_count": 1,
   "id": "255574cf-d1b6-4b6b-b0ee-b4bca4a99b71",
   "metadata": {},
   "outputs": [
    {
     "name": "stdin",
     "output_type": "stream",
     "text": [
      "Enter your YOB:  2003\n"
     ]
    }
   ],
   "source": [
    "yob = input(\"Enter your YOB: \")"
   ]
  },
  {
   "cell_type": "code",
   "execution_count": 2,
   "id": "6b15f38a-e136-4fbf-9fd8-d04ff4fc7cd5",
   "metadata": {},
   "outputs": [
    {
     "data": {
      "text/plain": [
       "str"
      ]
     },
     "execution_count": 2,
     "metadata": {},
     "output_type": "execute_result"
    }
   ],
   "source": [
    "type(yob)"
   ]
  },
  {
   "cell_type": "markdown",
   "id": "d506f981-ea26-48fc-99aa-e0b5a112af9f",
   "metadata": {},
   "source": [
    "### Some downstream system is to process this YOB. That would require it as int and would do type casting."
   ]
  },
  {
   "cell_type": "code",
   "execution_count": 7,
   "id": "2de438fc-ce04-4ba3-8f92-ea0a47f1a3e7",
   "metadata": {},
   "outputs": [
    {
     "name": "stdout",
     "output_type": "stream",
     "text": [
      "2003.0\n",
      "2003\n"
     ]
    }
   ],
   "source": [
    "print(float(yob))\n",
    "print(int(yob))"
   ]
  },
  {
   "cell_type": "code",
   "execution_count": null,
   "id": "78df20f1-f028-40df-b6a1-67bba3b95782",
   "metadata": {},
   "outputs": [],
   "source": []
  }
 ],
 "metadata": {
  "kernelspec": {
   "display_name": "Python 3 (ipykernel)",
   "language": "python",
   "name": "python3"
  },
  "language_info": {
   "codemirror_mode": {
    "name": "ipython",
    "version": 3
   },
   "file_extension": ".py",
   "mimetype": "text/x-python",
   "name": "python",
   "nbconvert_exporter": "python",
   "pygments_lexer": "ipython3",
   "version": "3.9.13"
  }
 },
 "nbformat": 4,
 "nbformat_minor": 5
}
