{
 "cells": [
  {
   "cell_type": "markdown",
   "metadata": {
    "_uuid": "38fc7b0f579e283e26411cd01392d2015f5d59d3"
   },
   "source": [
    "# Spam Filter using Naive Bayes Classifier"
   ]
  },
  {
   "cell_type": "markdown",
   "metadata": {
    "_uuid": "52bd1fe4c789af10c8f6bcebe9e3c8fd3c101781"
   },
   "source": [
    "**Import libraries**"
   ]
  },
  {
   "cell_type": "code",
   "execution_count": 2,
   "metadata": {
    "_uuid": "11ce4eaf13356cd47e341aea85670f36a13164d8"
   },
   "outputs": [],
   "source": [
    "import numpy as np\n",
    "import pandas as pd"
   ]
  },
  {
   "cell_type": "code",
   "execution_count": 3,
   "metadata": {
    "_uuid": "00ccd78c37c014efdae85197f9ef43699277d755"
   },
   "outputs": [],
   "source": [
    "import matplotlib.pyplot as plt\n",
    "import seaborn as sns\n",
    "%matplotlib inline"
   ]
  },
  {
   "cell_type": "markdown",
   "metadata": {
    "_uuid": "6213264582afb6541e4ae286710ac0051a859685"
   },
   "source": [
    "**Read csv file**"
   ]
  },
  {
   "cell_type": "code",
   "execution_count": 5,
   "metadata": {
    "_uuid": "8163f26bff8891be58ce9cbf544d8a67f71974ec"
   },
   "outputs": [
    {
     "data": {
      "text/html": [
       "<div>\n",
       "<style scoped>\n",
       "    .dataframe tbody tr th:only-of-type {\n",
       "        vertical-align: middle;\n",
       "    }\n",
       "\n",
       "    .dataframe tbody tr th {\n",
       "        vertical-align: top;\n",
       "    }\n",
       "\n",
       "    .dataframe thead th {\n",
       "        text-align: right;\n",
       "    }\n",
       "</style>\n",
       "<table border=\"1\" class=\"dataframe\">\n",
       "  <thead>\n",
       "    <tr style=\"text-align: right;\">\n",
       "      <th></th>\n",
       "      <th>label</th>\n",
       "      <th>message</th>\n",
       "    </tr>\n",
       "  </thead>\n",
       "  <tbody>\n",
       "    <tr>\n",
       "      <th>0</th>\n",
       "      <td>ham</td>\n",
       "      <td>Go until jurong point, crazy.. Available only ...</td>\n",
       "    </tr>\n",
       "    <tr>\n",
       "      <th>1</th>\n",
       "      <td>ham</td>\n",
       "      <td>Ok lar... Joking wif u oni...</td>\n",
       "    </tr>\n",
       "    <tr>\n",
       "      <th>2</th>\n",
       "      <td>spam</td>\n",
       "      <td>Free entry in 2 a wkly comp to win FA Cup fina...</td>\n",
       "    </tr>\n",
       "    <tr>\n",
       "      <th>3</th>\n",
       "      <td>ham</td>\n",
       "      <td>U dun say so early hor... U c already then say...</td>\n",
       "    </tr>\n",
       "    <tr>\n",
       "      <th>4</th>\n",
       "      <td>ham</td>\n",
       "      <td>Nah I don't think he goes to usf, he lives aro...</td>\n",
       "    </tr>\n",
       "  </tbody>\n",
       "</table>\n",
       "</div>"
      ],
      "text/plain": [
       "  label                                            message\n",
       "0   ham  Go until jurong point, crazy.. Available only ...\n",
       "1   ham                      Ok lar... Joking wif u oni...\n",
       "2  spam  Free entry in 2 a wkly comp to win FA Cup fina...\n",
       "3   ham  U dun say so early hor... U c already then say...\n",
       "4   ham  Nah I don't think he goes to usf, he lives aro..."
      ]
     },
     "execution_count": 5,
     "metadata": {},
     "output_type": "execute_result"
    }
   ],
   "source": [
    "df = pd.read_csv('ham or spam.csv', encoding='latin-1')[['v1', 'v2']]\n",
    "df.columns = ['label', 'message']\n",
    "df.head()"
   ]
  },
  {
   "cell_type": "markdown",
   "metadata": {
    "_uuid": "431a0a9e236da04a37713645f200e580124bdae4"
   },
   "source": [
    "**Describe dataset and visualize ham/spam count**"
   ]
  },
  {
   "cell_type": "code",
   "execution_count": 6,
   "metadata": {
    "_uuid": "95fa040f71997610cba921618485ae2d465e1188"
   },
   "outputs": [
    {
     "data": {
      "text/html": [
       "<div>\n",
       "<style scoped>\n",
       "    .dataframe tbody tr th:only-of-type {\n",
       "        vertical-align: middle;\n",
       "    }\n",
       "\n",
       "    .dataframe tbody tr th {\n",
       "        vertical-align: top;\n",
       "    }\n",
       "\n",
       "    .dataframe thead tr th {\n",
       "        text-align: left;\n",
       "    }\n",
       "\n",
       "    .dataframe thead tr:last-of-type th {\n",
       "        text-align: right;\n",
       "    }\n",
       "</style>\n",
       "<table border=\"1\" class=\"dataframe\">\n",
       "  <thead>\n",
       "    <tr>\n",
       "      <th></th>\n",
       "      <th colspan=\"4\" halign=\"left\">message</th>\n",
       "    </tr>\n",
       "    <tr>\n",
       "      <th></th>\n",
       "      <th>count</th>\n",
       "      <th>unique</th>\n",
       "      <th>top</th>\n",
       "      <th>freq</th>\n",
       "    </tr>\n",
       "    <tr>\n",
       "      <th>label</th>\n",
       "      <th></th>\n",
       "      <th></th>\n",
       "      <th></th>\n",
       "      <th></th>\n",
       "    </tr>\n",
       "  </thead>\n",
       "  <tbody>\n",
       "    <tr>\n",
       "      <th>ham</th>\n",
       "      <td>4825</td>\n",
       "      <td>4516</td>\n",
       "      <td>Sorry, I'll call later</td>\n",
       "      <td>30</td>\n",
       "    </tr>\n",
       "    <tr>\n",
       "      <th>spam</th>\n",
       "      <td>747</td>\n",
       "      <td>653</td>\n",
       "      <td>Please call our customer service representativ...</td>\n",
       "      <td>4</td>\n",
       "    </tr>\n",
       "  </tbody>\n",
       "</table>\n",
       "</div>"
      ],
      "text/plain": [
       "      message                                                               \n",
       "        count unique                                                top freq\n",
       "label                                                                       \n",
       "ham      4825   4516                             Sorry, I'll call later   30\n",
       "spam      747    653  Please call our customer service representativ...    4"
      ]
     },
     "execution_count": 6,
     "metadata": {},
     "output_type": "execute_result"
    }
   ],
   "source": [
    "df.groupby('label').describe()"
   ]
  },
  {
   "cell_type": "code",
   "execution_count": 7,
   "metadata": {
    "_uuid": "79bbf66e99ac1a0c4c71dcdd7854060037682c06"
   },
   "outputs": [
    {
     "data": {
      "text/plain": [
       "<AxesSubplot:xlabel='label', ylabel='count'>"
      ]
     },
     "execution_count": 7,
     "metadata": {},
     "output_type": "execute_result"
    },
    {
     "data": {
      "image/png": "[encoded data removed]",
      "text/plain": [
       "<Figure size 640x480 with 1 Axes>"
      ]
     },
     "metadata": {},
     "output_type": "display_data"
    }
   ],
   "source": [
    "sns.countplot(data=df, x='label')"
   ]
  },
  {
   "cell_type": "markdown",
   "metadata": {
    "_uuid": "60d48951ca5086115e08ede667a162ee9b92073a"
   },
   "source": [
    "** Lets move directly to creating spam filter <br>\n",
    "Our approach:\n",
    "**\n",
    "1. Clean and Normalize text\n",
    "2. Convert text into vectors (using bag of words model) that machine learning models can understand\n",
    "3. Train and test Classifier"
   ]
  },
  {
   "cell_type": "markdown",
   "metadata": {
    "_uuid": "519a4d4c06557a8623252baaff13054162cf7ab5"
   },
   "source": [
    "**Clean and normalize text**<br>\n",
    "It will be done in following steps:<br>\n",
    "1. Remove punctuations\n",
    "2. Remove all stopwords\n",
    "3. Apply [stemming](https://en.wikipedia.org/wiki/Stemming) (converting to normal form of word). <br>\n",
    "   For example, 'driving car' and 'drives car' becomes drive car<br>"
   ]
  },
  {
   "cell_type": "markdown",
   "metadata": {
    "_uuid": "6969645b7c1eae007f7c533cb01f66e7524637bf"
   },
   "source": [
    "** Write a method to return normailzed text in form of tokens (lemmas)**"
   ]
  },
  {
   "cell_type": "code",
   "execution_count": 8,
   "metadata": {
    "_uuid": "500971b5d102765bb5e6537943dd3e3d7ce9af02"
   },
   "outputs": [],
   "source": [
    "import string\n",
    "from nltk.corpus import stopwords\n",
    "from nltk import PorterStemmer as Stemmer\n",
    "def process(text):\n",
    "    # lowercase it\n",
    "    text = text.lower()\n",
    "    # remove punctuation\n",
    "    text = ''.join([t for t in text if t not in string.punctuation])\n",
    "    # remove stopwords\n",
    "    text = [t for t in text.split() if t not in stopwords.words('english')]\n",
    "    # stemming\n",
    "    st = Stemmer()\n",
    "    text = [st.stem(t) for t in text]\n",
    "    # return token list\n",
    "    return text"
   ]
  },
  {
   "cell_type": "code",
   "execution_count": 11,
   "metadata": {
    "_uuid": "21d1a8ec02208c20664d67770a94fc0261920f1a"
   },
   "outputs": [
    {
     "data": {
      "text/plain": [
       "['holiday', 'play', 'cricket', 'jeff', 'play', 'well']"
      ]
     },
     "execution_count": 11,
     "metadata": {},
     "output_type": "execute_result"
    }
   ],
   "source": [
    "# Testing\n",
    "process('It\\'s holiday and we are playing cricket. Jeff is playing very well!!!')"
   ]
  },
  {
   "cell_type": "code",
   "execution_count": 12,
   "metadata": {
    "_uuid": "659631e15f988f3f7282eaea14799243a7e25b5f"
   },
   "outputs": [
    {
     "data": {
      "text/plain": [
       "0     [go, jurong, point, crazi, avail, bugi, n, gre...\n",
       "1                          [ok, lar, joke, wif, u, oni]\n",
       "2     [free, entri, 2, wkli, comp, win, fa, cup, fin...\n",
       "3         [u, dun, say, earli, hor, u, c, alreadi, say]\n",
       "4     [nah, dont, think, goe, usf, live, around, tho...\n",
       "5     [freemsg, hey, darl, 3, week, word, back, id, ...\n",
       "6     [even, brother, like, speak, treat, like, aid,...\n",
       "7     [per, request, mell, mell, oru, minnaminungint...\n",
       "8     [winner, valu, network, custom, select, receiv...\n",
       "9     [mobil, 11, month, u, r, entitl, updat, latest...\n",
       "10    [im, gonna, home, soon, dont, want, talk, stuf...\n",
       "11    [six, chanc, win, cash, 100, 20000, pound, txt...\n",
       "12    [urgent, 1, week, free, membership, å£100000, ...\n",
       "13    [ive, search, right, word, thank, breather, pr...\n",
       "14                                       [date, sunday]\n",
       "15    [xxxmobilemovieclub, use, credit, click, wap, ...\n",
       "16                                     [oh, kim, watch]\n",
       "17    [eh, u, rememb, 2, spell, name, ye, v, naughti...\n",
       "18    [fine, thatåõ, way, u, feel, thatåõ, way, gota...\n",
       "19    [england, v, macedonia, dont, miss, goalsteam,...\n",
       "Name: message, dtype: object"
      ]
     },
     "execution_count": 12,
     "metadata": {},
     "output_type": "execute_result"
    }
   ],
   "source": [
    "# Test with our dataset\n",
    "df['message'][:20].apply(process)"
   ]
  },
  {
   "cell_type": "markdown",
   "metadata": {
    "_uuid": "579a14f6047395afbc14d0bf58d4871df63c48dc"
   },
   "source": [
    "**Convert each message to vectors that machine learning models can understand.<br>We will do that using bag-of-words model**\n",
    "<br>We will use TfidfVectorizer. It will convert collection of text documents (SMS corpus) into 2D matrix.\n",
    "<br>One dimension represent documents and other dimension repesents each unique word in SMS corpus .\n",
    ".\n",
    "<br>If **n<sup>th</sup> term t has occured p times in m<sup>th</sup> document**, (m, n) value in this matrix will be TF-IDF(t), <br><center>where [TF-IDF(t)](https://en.wikipedia.org/wiki/Tf–idf) = Term Frequency (TF) * Inverse Document Frequency (IDF)</center>\n",
    "<br>Term Frequency (TF) is a measure of how frequent a term occurs in a document.<br>\n",
    "<br><center>TF(t)= Number of times term t appears in document (p) / Total number of terms in that document</center>\n",
    "<br>Inverse Document Frequency (IDF) is measure of how important term is. For TF, all terms are equally treated. But, in IDF, for words that occur frequently like 'is' 'the' 'of' are assigned less weight. While terms that occur rarely that can easily help identify class of input features will be weighted high.<br>\n",
    "<br><center>Inverse Document Frequency, IDF(t)= log<sub><i>e</i></sub>(Total number of documents / Number of documents with term t in it)</center>\n",
    "<br>At end we will have for every message, vectors normalized to unit length equal to size of vocalbulary (number of unique terms from entire SMS corpus)"
   ]
  },
  {
   "cell_type": "code",
   "execution_count": 13,
   "metadata": {
    "_uuid": "4711298940409577a836454bc669566f9f547535"
   },
   "outputs": [],
   "source": [
    "from sklearn.feature_extraction.text import TfidfVectorizer"
   ]
  },
  {
   "cell_type": "markdown",
   "metadata": {
    "_uuid": "99201820a778649a32132381142034c46ec69c7b"
   },
   "source": [
    "**Fit and transform SMS corpus**"
   ]
  },
  {
   "cell_type": "code",
   "execution_count": 14,
   "metadata": {
    "_uuid": "0afb400d1c0b2e74bccc09e44b1698616034b003"
   },
   "outputs": [],
   "source": [
    "tfidfv = TfidfVectorizer(analyzer=process)\n",
    "data = tfidfv.fit_transform(df['message'])"
   ]
  },
  {
   "cell_type": "markdown",
   "metadata": {
    "_uuid": "109bbcdc37a3d9841220d1c057cc400af1bdaf2c"
   },
   "source": [
    "**Lets check what values it gives for a message**"
   ]
  },
  {
   "cell_type": "code",
   "execution_count": 15,
   "metadata": {
    "_uuid": "1f93614292ab0f16354350e1e4f4e71db843a785"
   },
   "outputs": [
    {
     "name": "stdout",
     "output_type": "stream",
     "text": [
      "Free entry in 2 a wkly comp to win FA Cup final tkts 21st May 2005. Text FA to 87121 to receive entry question(std txt rate)T&C's apply 08452810075over18's\n"
     ]
    }
   ],
   "source": [
    "mess = df.iloc[2]['message']\n",
    "print(mess)"
   ]
  },
  {
   "cell_type": "code",
   "execution_count": 16,
   "metadata": {
    "_uuid": "eff9cedfea7508bdafd8a361acbd82a554e16ea4"
   },
   "outputs": [
    {
     "name": "stdout",
     "output_type": "stream",
     "text": [
      "  (0, 7741)\t0.18906287739887084\n",
      "  (0, 7708)\t0.14471405235314777\n",
      "  (0, 7276)\t0.12336193745345178\n",
      "  (0, 7099)\t0.2190885570936267\n",
      "  (0, 6959)\t0.11759458460817876\n",
      "  (0, 5856)\t0.16027970945850903\n",
      "  (0, 5815)\t0.2330497030932461\n",
      "  (0, 5768)\t0.2330497030932461\n",
      "  (0, 4592)\t0.15903719770411495\n",
      "  (0, 3091)\t0.11505037200973967\n",
      "  (0, 2969)\t0.16669800498830506\n",
      "  (0, 2868)\t0.4660994061864922\n",
      "  (0, 2748)\t0.3571909758763146\n",
      "  (0, 2246)\t0.20302402339849024\n",
      "  (0, 2076)\t0.19516151371199045\n",
      "  (0, 1180)\t0.16669800498830506\n",
      "  (0, 833)\t0.2190885570936267\n",
      "  (0, 433)\t0.22518719340674634\n",
      "  (0, 420)\t0.22518719340674634\n",
      "  (0, 413)\t0.09987750376879972\n",
      "  (0, 72)\t0.2330497030932461\n"
     ]
    }
   ],
   "source": [
    "print(tfidfv.transform([mess]))"
   ]
  },
  {
   "cell_type": "markdown",
   "metadata": {
    "_uuid": "b6016b7a6f87bbfc96c63834da3166aa7806efd7"
   },
   "source": [
    "**A better view**"
   ]
  },
  {
   "cell_type": "code",
   "execution_count": 17,
   "metadata": {
    "_uuid": "ca0301f27a459041ed7ecbf4450352b7e4993034"
   },
   "outputs": [
    {
     "name": "stdout",
     "output_type": "stream",
     "text": [
      "index\tidf\ttfidf\tterm\n",
      "72\t8.5271\t0.2330\t08452810075over18\n",
      "413\t3.6544\t0.0999\t2\n",
      "420\t8.2394\t0.2252\t2005\n",
      "433\t8.2394\t0.2252\t21st\n",
      "833\t8.0163\t0.2191\t87121\n",
      "1180\t6.0993\t0.1667\tappli\n",
      "2076\t7.1408\t0.1952\tcomp\n",
      "2246\t7.4285\t0.2030\tcup\n",
      "2748\t6.5346\t0.3572\tentri\n",
      "2868\t8.5271\t0.4661\tfa\n",
      "2969\t6.0993\t0.1667\tfinal\n",
      "3091\t4.2096\t0.1151\tfree\n",
      "4592\t5.8190\t0.1590\tmay\n",
      "5768\t8.5271\t0.2330\tquestionstd\n",
      "5815\t8.5271\t0.2330\tratetc\n",
      "5856\t5.8645\t0.1603\treceiv\n",
      "6959\t4.3027\t0.1176\ttext\n",
      "7099\t8.0163\t0.2191\ttkt\n",
      "7276\t4.5137\t0.1234\ttxt\n",
      "7708\t5.2950\t0.1447\twin\n",
      "7741\t6.9176\t0.1891\twkli\n"
     ]
    },
    {
     "name": "stderr",
     "output_type": "stream",
     "text": [
      "/home/ashish/anaconda3/lib/python3.9/site-packages/sklearn/utils/deprecation.py:87: FutureWarning: Function get_feature_names is deprecated; get_feature_names is deprecated in 1.0 and will be removed in 1.2. Please use get_feature_names_out instead.\n",
      "  warnings.warn(msg, category=FutureWarning)\n"
     ]
    }
   ],
   "source": [
    "j = tfidfv.transform([mess]).toarray()[0]\n",
    "print('index\\tidf\\ttfidf\\tterm')\n",
    "for i in range(len(j)):\n",
    "    if j[i] != 0:\n",
    "        print(i, format(tfidfv.idf_[i], '.4f'), format(j[i], '.4f'), tfidfv.get_feature_names()[i],sep='\\t')"
   ]
  },
  {
   "cell_type": "markdown",
   "metadata": {
    "_uuid": "8b59fb4f20880e31341d09e0590de002693d134c"
   },
   "source": [
    "**Having messages in form of vectors, we are ready to train our classifier. <br>We will use Naive Bayes which is well known classifier while working with text data. \n",
    "<br>Before that we will use pipeline feature of sklearn to create a pipeline of TfidfVectorizer followed by Classifier.**\n",
    "<br>Input will be message passed to first stage TfidfVectorizer which will transform it and pass it to Naive Bayes Classifier to get output label"
   ]
  },
  {
   "cell_type": "code",
   "execution_count": 18,
   "metadata": {
    "_uuid": "5685a89bdfa619ae1413437aee6d4024077c73d3"
   },
   "outputs": [],
   "source": [
    "from sklearn.pipeline import Pipeline\n",
    "from sklearn.naive_bayes import MultinomialNB\n",
    "spam_filter = Pipeline([\n",
    "    ('vectorizer', TfidfVectorizer(analyzer=process)), # messages to weighted TFIDF score\n",
    "    ('classifier', MultinomialNB())                    # train on TFIDF vectors with Naive Bayes\n",
    "])"
   ]
  },
  {
   "cell_type": "markdown",
   "metadata": {
    "_uuid": "8707bbc4eb1ad42849c45793ff7c78e6977de6a1"
   },
   "source": [
    "**Perform train test split**"
   ]
  },
  {
   "cell_type": "code",
   "execution_count": 19,
   "metadata": {
    "_uuid": "c946f692d4c604cb5c0b94d14ad049ae54db140c"
   },
   "outputs": [],
   "source": [
    "from sklearn.model_selection import train_test_split\n",
    "x_train, x_test, y_train, y_test = train_test_split(df['message'], df['label'], test_size=0.20, random_state = 21)"
   ]
  },
  {
   "cell_type": "markdown",
   "metadata": {
    "_uuid": "ab41b3101572b0a7172e4936d2abd58995ec78b6"
   },
   "source": [
    "**Train spam_filter**"
   ]
  },
  {
   "cell_type": "code",
   "execution_count": 20,
   "metadata": {
    "_uuid": "577d06464b3350f7c40b583818b75d97875205a0"
   },
   "outputs": [
    {
     "data": {
      "text/plain": [
       "Pipeline(steps=[('vectorizer',\n",
       "                 TfidfVectorizer(analyzer=<function process at 0x7f06c433b550>)),\n",
       "                ('classifier', MultinomialNB())])"
      ]
     },
     "execution_count": 20,
     "metadata": {},
     "output_type": "execute_result"
    }
   ],
   "source": [
    "spam_filter.fit(x_train, y_train)"
   ]
  },
  {
   "cell_type": "markdown",
   "metadata": {
    "_uuid": "d8278911d15092c3c4b226636bab9c79b4dd310b"
   },
   "source": [
    "**Predict for test cases**"
   ]
  },
  {
   "cell_type": "code",
   "execution_count": 21,
   "metadata": {
    "_uuid": "0591c0c7bb36f033051855728908c2ef0b1fa2f5"
   },
   "outputs": [],
   "source": [
    "predictions = spam_filter.predict(x_test)"
   ]
  },
  {
   "cell_type": "code",
   "execution_count": 22,
   "metadata": {
    "_uuid": "0b5dd451d1f1cf5cc1d7548720474bd0293b18b9"
   },
   "outputs": [
    {
     "name": "stdout",
     "output_type": "stream",
     "text": [
      "Total number of test cases 1115\n",
      "Number of wrong of predictions 39\n"
     ]
    }
   ],
   "source": [
    "count = 0\n",
    "for i in range(len(y_test)):\n",
    "    if y_test.iloc[i] != predictions[i]:\n",
    "        count += 1\n",
    "print('Total number of test cases', len(y_test))\n",
    "print('Number of wrong of predictions', count)"
   ]
  },
  {
   "cell_type": "markdown",
   "metadata": {
    "_uuid": "17916e6ce16c1eee2f3fc765a87b247e8eb008aa"
   },
   "source": [
    "**Check for wrong predictions that were classified as ham**"
   ]
  },
  {
   "cell_type": "code",
   "execution_count": 23,
   "metadata": {
    "_uuid": "4e826b346995dd748e156f21122606458f6c8c7c"
   },
   "outputs": [
    {
     "data": {
      "text/plain": [
       "419     Send a logo 2 ur lover - 2 names joined by a h...\n",
       "3139    sexy sexy cum and text me im wet and warm and ...\n",
       "3790    Twinks, bears, scallies, skins and jocks are c...\n",
       "2877    Hey Boys. Want hot XXX pics sent direct 2 ur p...\n",
       "2377    YES! The only place in town to meet exciting a...\n",
       "1499    SMS. ac JSco: Energy is high, but u may not kn...\n",
       "3417    LIFE has never been this much fun and great un...\n",
       "3358    Sorry I missed your call let's talk when you h...\n",
       "2412    I don't know u and u don't know me. Send CHAT ...\n",
       "3862    Oh my god! I've found your number again! I'm s...\n",
       "659     88800 and 89034 are premium phone services cal...\n",
       "3109    Good Luck! Draw takes place 28th Feb 06. Good ...\n",
       "5466    http//tms. widelive.com/index. wml?id=820554ad...\n",
       "1268    Can U get 2 phone NOW? I wanna chat 2 set up m...\n",
       "491     Congrats! 1 year special cinema pass for 2 is ...\n",
       "2246    Hi ya babe x u 4goten bout me?' scammers getti...\n",
       "2828    Send a logo 2 ur lover - 2 names joined by a h...\n",
       "3528    Xmas & New Years Eve tickets are now on sale f...\n",
       "4247    accordingly. I repeat, just text the word ok o...\n",
       "4142    In The Simpsons Movie released in July 2007 na...\n",
       "3979                                   ringtoneking 84484\n",
       "1637    0A$NETWORKS allow companies to bill for SMS, s...\n",
       "2802                    FreeMsg>FAV XMAS TONES!Reply REAL\n",
       "3270    You have 1 new voicemail. Please call 08719181...\n",
       "2294     You have 1 new message. Please call 08718738034.\n",
       "2619    <Forwarded from 21870000>Hi - this is your Mai...\n",
       "234     Text & meet someone sexy today. U can find a d...\n",
       "760     Romantic Paris. 2 nights, 2 flights from å£79 ...\n",
       "138     You'll not rcv any more msgs from the chat svc...\n",
       "689     <Forwarded from 448712404000>Please CALL 08712...\n",
       "879     U have a Secret Admirer who is looking 2 make ...\n",
       "1216    You have 1 new voicemail. Please call 08719181...\n",
       "1892    CALL 09090900040 & LISTEN TO EXTREME DIRTY LIV...\n",
       "2351    Download as many ringtones as u like no restri...\n",
       "1317    Win the newest ÛÏHarry Potter and the Order o...\n",
       "4458    Welcome to UK-mobile-date this msg is FREE giv...\n",
       "1879    U have a secret admirer who is looking 2 make ...\n",
       "4309    Someone U know has asked our dating service 2 ...\n",
       "1673    Monthly password for wap. mobsi.com is 391784....\n",
       "Name: message, dtype: object"
      ]
     },
     "execution_count": 23,
     "metadata": {},
     "output_type": "execute_result"
    }
   ],
   "source": [
    "x_test[y_test != predictions]"
   ]
  },
  {
   "cell_type": "markdown",
   "metadata": {
    "_uuid": "9493853ec664ba66d1dd3f4b65d3f222f861276c"
   },
   "source": [
    "**Use classification report to get more details**"
   ]
  },
  {
   "cell_type": "code",
   "execution_count": 24,
   "metadata": {
    "_uuid": "cf9b861cfd6e62d284c87d30e9b840c2271b60b2"
   },
   "outputs": [
    {
     "name": "stdout",
     "output_type": "stream",
     "text": [
      "              precision    recall  f1-score   support\n",
      "\n",
      "         ham       1.00      0.96      0.98      1014\n",
      "        spam       0.72      1.00      0.84       101\n",
      "\n",
      "    accuracy                           0.97      1115\n",
      "   macro avg       0.86      0.98      0.91      1115\n",
      "weighted avg       0.97      0.97      0.97      1115\n",
      "\n"
     ]
    }
   ],
   "source": [
    "from sklearn.metrics import classification_report\n",
    "print(classification_report(predictions, y_test))"
   ]
  },
  {
   "cell_type": "markdown",
   "metadata": {
    "_uuid": "6d5990efe944223128dc5baaaadf4382a5648956"
   },
   "source": [
    "Looking at precision column (for ham, it is 1.00), we can say that all number of wrong predictions (in output of [18]) came from spam predicted as ham. It is ok and cost of predicting spam as ham is negligible to that of predicting ham as spam."
   ]
  },
  {
   "cell_type": "markdown",
   "metadata": {
    "_uuid": "0eb6dde3ac2244ebfe7f1ec9bf015719018d899b"
   },
   "source": [
    "Function to predict whether passed message is ham or spam"
   ]
  },
  {
   "cell_type": "code",
   "execution_count": 25,
   "metadata": {
    "_uuid": "f471837c49484f5fbdcd71b21b649c1dd5cf0a02"
   },
   "outputs": [
    {
     "data": {
      "text/plain": [
       "'spam'"
      ]
     },
     "execution_count": 25,
     "metadata": {},
     "output_type": "execute_result"
    }
   ],
   "source": [
    "def detect_spam(s):\n",
    "    return spam_filter.predict([s])[0]\n",
    "detect_spam('Your cash-balance is currently 500 pounds - to maximize your cash-in now, send COLLECT to 83600.')"
   ]
  },
  {
   "cell_type": "code",
   "execution_count": null,
   "metadata": {
    "_uuid": "3a5017233497c29226537b67d8bec27c0c5a7955"
   },
   "outputs": [],
   "source": []
  },
  {
   "cell_type": "code",
   "execution_count": null,
   "metadata": {
    "_uuid": "a97ccd286fc063eac8dc521f97ae22f6e2851819"
   },
   "outputs": [],
   "source": []
  }
 ],
 "metadata": {
  "kernelspec": {
   "display_name": "Python 3 (ipykernel)",
   "language": "python",
   "name": "python3"
  },
  "language_info": {
   "codemirror_mode": {
    "name": "ipython",
    "version": 3
   },
   "file_extension": ".py",
   "mimetype": "text/x-python",
   "name": "python",
   "nbconvert_exporter": "python",
   "pygments_lexer": "ipython3",
   "version": "3.9.13"
  }
 },
 "nbformat": 4,
 "nbformat_minor": 4
}
