{
 "cells": [
  {
   "cell_type": "code",
   "execution_count": 2,
   "id": "9638555e-e8a5-428b-80f5-4627551bd59f",
   "metadata": {},
   "outputs": [],
   "source": [
    "import pandas as pd\n",
    "import matplotlib.pyplot as plt\n",
    "from collections import Counter"
   ]
  },
  {
   "cell_type": "markdown",
   "id": "76358a9d-2d10-4005-beb8-dc3b8a8f6ac5",
   "metadata": {},
   "source": [
    "### 1: Load the data"
   ]
  },
  {
   "cell_type": "code",
   "execution_count": 3,
   "id": "9b0da0b2-cb4e-4d73-9758-63a85f094ae4",
   "metadata": {},
   "outputs": [],
   "source": [
    "df = pd.read_csv('Titanic-Dataset.csv')"
   ]
  },
  {
   "cell_type": "code",
   "execution_count": 4,
   "id": "7e0053e1-acd1-483d-a90c-ccc78c1ff369",
   "metadata": {},
   "outputs": [
    {
     "data": {
      "text/plain": [
       "(891, 12)"
      ]
     },
     "execution_count": 4,
     "metadata": {},
     "output_type": "execute_result"
    }
   ],
   "source": [
    "df.shape"
   ]
  },
  {
   "cell_type": "code",
   "execution_count": 5,
   "id": "58d565b4-c9d1-4096-9939-f94ee32c7c98",
   "metadata": {},
   "outputs": [
    {
     "data": {
      "text/plain": [
       "0    549\n",
       "1    342\n",
       "Name: Survived, dtype: int64"
      ]
     },
     "execution_count": 5,
     "metadata": {},
     "output_type": "execute_result"
    }
   ],
   "source": [
    "df['Survived'].value_counts()"
   ]
  },
  {
   "cell_type": "code",
   "execution_count": 6,
   "id": "c14e9515-b8c8-4d2f-9522-c92424e0f6b4",
   "metadata": {},
   "outputs": [
    {
     "data": {
      "text/plain": [
       "Index(['PassengerId', 'Survived', 'Pclass', 'Name', 'Sex', 'Age', 'SibSp',\n",
       "       'Parch', 'Ticket', 'Fare', 'Cabin', 'Embarked'],\n",
       "      dtype='object')"
      ]
     },
     "execution_count": 6,
     "metadata": {},
     "output_type": "execute_result"
    }
   ],
   "source": [
    "df.columns"
   ]
  },
  {
   "cell_type": "markdown",
   "id": "e7eaad73-5359-44c9-8bdb-cb4061d58890",
   "metadata": {},
   "source": [
    "### 2: Handle the null values"
   ]
  },
  {
   "cell_type": "code",
   "execution_count": 7,
   "id": "34d7f8d5-47ef-41d0-ba3b-782eda4fbe93",
   "metadata": {},
   "outputs": [],
   "source": [
    "df['Cabin'].fillna('NA', inplace = True)"
   ]
  },
  {
   "cell_type": "code",
   "execution_count": 8,
   "id": "a04dd2a7-de0b-408a-9bdf-fcb10c0b14af",
   "metadata": {},
   "outputs": [],
   "source": [
    "X_cols = ['Pclass', 'Sex', 'Age', 'SibSp', 'Parch', 'Ticket', 'Fare', 'Cabin', 'Embarked']\n",
    "y_cols = ['Survived']"
   ]
  },
  {
   "cell_type": "code",
   "execution_count": 9,
   "id": "26515c37-105f-4869-9f6e-29ae339164e2",
   "metadata": {},
   "outputs": [],
   "source": [
    "df2 = df[X_cols + y_cols]"
   ]
  },
  {
   "cell_type": "code",
   "execution_count": 10,
   "id": "261b84cd-127c-4800-ab83-fa64e4c46799",
   "metadata": {},
   "outputs": [
    {
     "name": "stderr",
     "output_type": "stream",
     "text": [
      "C:\\Users\\ashish.jain50\\AppData\\Local\\Temp\\ipykernel_8312\\420888182.py:1: SettingWithCopyWarning: \n",
      "A value is trying to be set on a copy of a slice from a DataFrame\n",
      "\n",
      "See the caveats in the documentation: https://pandas.pydata.org/pandas-docs/stable/user_guide/indexing.html#returning-a-view-versus-a-copy\n",
      "  df2.dropna(inplace = True, axis = 0)\n"
     ]
    }
   ],
   "source": [
    "df2.dropna(inplace = True, axis = 0)"
   ]
  },
  {
   "cell_type": "markdown",
   "id": "f3078d88-3cc9-40a8-a43c-e2162f516199",
   "metadata": {},
   "source": [
    "#### 1. In the times of crisis, women and children are given higher priority over men by the rescue teams\n",
    "#### 2. Economic status of a person is also a good indicator about the survival status of a person."
   ]
  },
  {
   "cell_type": "markdown",
   "id": "fa6a894b-a465-4986-895c-37e31ceaab9c",
   "metadata": {},
   "source": [
    "### 3: Converting text data into numbers"
   ]
  },
  {
   "cell_type": "code",
   "execution_count": 11,
   "id": "da2caa71-4fda-4a2e-b710-f1791d8e2748",
   "metadata": {},
   "outputs": [],
   "source": [
    "from sklearn.preprocessing import OrdinalEncoder"
   ]
  },
  {
   "cell_type": "code",
   "execution_count": 12,
   "id": "84403313-0b8e-4aa6-9e25-fff2493f9b9e",
   "metadata": {},
   "outputs": [],
   "source": [
    "enc = OrdinalEncoder()"
   ]
  },
  {
   "cell_type": "code",
   "execution_count": 13,
   "id": "32704fca-d4b0-4d70-9d9b-c855dc56cca7",
   "metadata": {},
   "outputs": [],
   "source": [
    "text_columns = ['Sex', 'Ticket', 'Cabin', 'Embarked']"
   ]
  },
  {
   "cell_type": "code",
   "execution_count": 14,
   "id": "d8e4f842-7758-4da5-a44b-341c340d2258",
   "metadata": {},
   "outputs": [
    {
     "name": "stderr",
     "output_type": "stream",
     "text": [
      "C:\\Users\\ashish.jain50\\AppData\\Local\\Temp\\ipykernel_8312\\3782195017.py:3: SettingWithCopyWarning: \n",
      "A value is trying to be set on a copy of a slice from a DataFrame.\n",
      "Try using .loc[row_indexer,col_indexer] = value instead\n",
      "\n",
      "See the caveats in the documentation: https://pandas.pydata.org/pandas-docs/stable/user_guide/indexing.html#returning-a-view-versus-a-copy\n",
      "  df2[i] = enc.transform(df2[[i]])\n",
      "C:\\Users\\ashish.jain50\\AppData\\Local\\Temp\\ipykernel_8312\\3782195017.py:3: SettingWithCopyWarning: \n",
      "A value is trying to be set on a copy of a slice from a DataFrame.\n",
      "Try using .loc[row_indexer,col_indexer] = value instead\n",
      "\n",
      "See the caveats in the documentation: https://pandas.pydata.org/pandas-docs/stable/user_guide/indexing.html#returning-a-view-versus-a-copy\n",
      "  df2[i] = enc.transform(df2[[i]])\n",
      "C:\\Users\\ashish.jain50\\AppData\\Local\\Temp\\ipykernel_8312\\3782195017.py:3: SettingWithCopyWarning: \n",
      "A value is trying to be set on a copy of a slice from a DataFrame.\n",
      "Try using .loc[row_indexer,col_indexer] = value instead\n",
      "\n",
      "See the caveats in the documentation: https://pandas.pydata.org/pandas-docs/stable/user_guide/indexing.html#returning-a-view-versus-a-copy\n",
      "  df2[i] = enc.transform(df2[[i]])\n",
      "C:\\Users\\ashish.jain50\\AppData\\Local\\Temp\\ipykernel_8312\\3782195017.py:3: SettingWithCopyWarning: \n",
      "A value is trying to be set on a copy of a slice from a DataFrame.\n",
      "Try using .loc[row_indexer,col_indexer] = value instead\n",
      "\n",
      "See the caveats in the documentation: https://pandas.pydata.org/pandas-docs/stable/user_guide/indexing.html#returning-a-view-versus-a-copy\n",
      "  df2[i] = enc.transform(df2[[i]])\n"
     ]
    }
   ],
   "source": [
    "for i in text_columns:\n",
    "    enc = enc.fit(df2[[i]])\n",
    "    df2[i] = enc.transform(df2[[i]])"
   ]
  },
  {
   "cell_type": "code",
   "execution_count": 15,
   "id": "b7b21b3c-0df5-4b14-a34d-2aadebc53c3f",
   "metadata": {},
   "outputs": [],
   "source": [
    "X = df2[X_cols]\n",
    "y = df2[y_cols]"
   ]
  },
  {
   "cell_type": "markdown",
   "id": "e6458892-43f7-46a1-bbb2-2edf150e1d4f",
   "metadata": {},
   "source": [
    "### 4: Split DataFrame For Training and Testing"
   ]
  },
  {
   "cell_type": "code",
   "execution_count": 16,
   "id": "1c6395a1-19e3-4619-9d80-1f50f550888b",
   "metadata": {},
   "outputs": [],
   "source": [
    "from sklearn.model_selection import train_test_split"
   ]
  },
  {
   "cell_type": "code",
   "execution_count": 17,
   "id": "b49ec3a0-9b76-419b-9017-9d7b7ce4f3f3",
   "metadata": {},
   "outputs": [],
   "source": [
    "X_train, X_test, y_train, y_test = train_test_split(X, y, test_size=0.2, random_state=42)"
   ]
  },
  {
   "cell_type": "code",
   "execution_count": 18,
   "id": "41e904e9-6ad0-41f2-bac4-2b5f2c32ac61",
   "metadata": {},
   "outputs": [],
   "source": [
    "y_test = y_test['Survived'].values"
   ]
  },
  {
   "cell_type": "markdown",
   "id": "5fad73b8-7ff2-47ec-8717-557929ee8a08",
   "metadata": {},
   "source": [
    "### 5: Building Decision Tree"
   ]
  },
  {
   "cell_type": "code",
   "execution_count": 19,
   "id": "99aaee7d-e786-48a5-8693-e5de1797c638",
   "metadata": {},
   "outputs": [],
   "source": [
    "from sklearn.tree import DecisionTreeClassifier, plot_tree"
   ]
  },
  {
   "cell_type": "code",
   "execution_count": 20,
   "id": "4cdbb423-ff56-41ac-8a71-054275e4fd1c",
   "metadata": {},
   "outputs": [
    {
     "data": {
      "image/png": "[encoded data removed]",
      "text/plain": [
       "<Figure size 432x288 with 1 Axes>"
      ]
     },
     "metadata": {
      "needs_background": "light"
     },
     "output_type": "display_data"
    }
   ],
   "source": [
    "dtree = DecisionTreeClassifier()\n",
    "dtree = dtree.fit(X_train, y_train)\n",
    "\n",
    "_ = plot_tree(dtree, feature_names=X_cols) "
   ]
  },
  {
   "cell_type": "markdown",
   "id": "cc9837e1-c4fe-4cc6-b187-ea3b0658dd94",
   "metadata": {},
   "source": [
    "### 6: Predictions on Test Data"
   ]
  },
  {
   "cell_type": "code",
   "execution_count": 21,
   "id": "d6cddb00-7fe6-4c18-abcd-59d524f30203",
   "metadata": {},
   "outputs": [],
   "source": [
    "y_pred = dtree.predict(X_test)"
   ]
  },
  {
   "cell_type": "markdown",
   "id": "112100a8-5479-40c7-829c-7f9538f4c315",
   "metadata": {},
   "source": [
    "### 7: Measuring Classification"
   ]
  },
  {
   "cell_type": "code",
   "execution_count": 22,
   "id": "b2684ff5-01b4-4e72-9b18-71d44b52a64b",
   "metadata": {},
   "outputs": [],
   "source": [
    "df_measuring_classification = pd.DataFrame({\n",
    "    'y_test': y_test,\n",
    "    'y_pred': y_pred\n",
    "})"
   ]
  },
  {
   "cell_type": "code",
   "execution_count": 23,
   "id": "53fa45cc-804c-4d90-8e4c-be8b65b29c2c",
   "metadata": {},
   "outputs": [],
   "source": [
    "matches = df_measuring_classification[\n",
    "    df_measuring_classification['y_test'] == df_measuring_classification['y_pred']\n",
    "]"
   ]
  },
  {
   "cell_type": "code",
   "execution_count": 24,
   "id": "02735d72-3faf-483c-b91c-f13a4cbc74fa",
   "metadata": {},
   "outputs": [
    {
     "data": {
      "text/plain": [
       "(104, 2)"
      ]
     },
     "execution_count": 24,
     "metadata": {},
     "output_type": "execute_result"
    }
   ],
   "source": [
    "matches.shape"
   ]
  },
  {
   "cell_type": "code",
   "execution_count": 25,
   "id": "df9fb911-912e-4f30-8b02-d8e811b361cf",
   "metadata": {},
   "outputs": [],
   "source": [
    "mis_matches = df_measuring_classification[\n",
    "    df_measuring_classification['y_test'] != df_measuring_classification['y_pred']\n",
    "]"
   ]
  },
  {
   "cell_type": "code",
   "execution_count": 26,
   "id": "49f91302-5f11-4989-82e1-3758f6d7f734",
   "metadata": {},
   "outputs": [
    {
     "data": {
      "text/plain": [
       "(39, 2)"
      ]
     },
     "execution_count": 26,
     "metadata": {},
     "output_type": "execute_result"
    }
   ],
   "source": [
    "mis_matches.shape"
   ]
  },
  {
   "cell_type": "markdown",
   "id": "7a951993-b1d0-45cf-8cd7-306f2739fcf0",
   "metadata": {},
   "source": [
    "### Confusion Matrix"
   ]
  },
  {
   "cell_type": "code",
   "execution_count": 27,
   "id": "c9ead427-bd4d-40ec-8a3a-01ed344eff01",
   "metadata": {},
   "outputs": [],
   "source": [
    "from sklearn.metrics import confusion_matrix"
   ]
  },
  {
   "cell_type": "code",
   "execution_count": 28,
   "id": "9b792186-32f8-40bd-bc28-fdf0d62c9e12",
   "metadata": {},
   "outputs": [
    {
     "data": {
      "text/plain": [
       "array([[64, 16],\n",
       "       [23, 40]], dtype=int64)"
      ]
     },
     "execution_count": 28,
     "metadata": {},
     "output_type": "execute_result"
    }
   ],
   "source": [
    "confusion_matrix(y_test, y_pred, labels=[0, 1])"
   ]
  },
  {
   "cell_type": "code",
   "execution_count": 29,
   "id": "35c151b3-8359-4291-af3e-569133b3f06c",
   "metadata": {},
   "outputs": [],
   "source": [
    "from sklearn.metrics import accuracy_score, plot_confusion_matrix"
   ]
  },
  {
   "cell_type": "code",
   "execution_count": 30,
   "id": "dba336d8-dc11-490a-a6d5-57cb5ae1ab41",
   "metadata": {},
   "outputs": [
    {
     "data": {
      "text/plain": [
       "Counter({1: 63, 0: 80})"
      ]
     },
     "execution_count": 30,
     "metadata": {},
     "output_type": "execute_result"
    }
   ],
   "source": [
    "Counter(y_test)"
   ]
  },
  {
   "cell_type": "code",
   "execution_count": 31,
   "id": "9630e2e5-6d83-43d3-b106-d11f2c159eb1",
   "metadata": {},
   "outputs": [
    {
     "name": "stderr",
     "output_type": "stream",
     "text": [
      "C:\\Users\\ashish.jain50\\Anaconda3\\lib\\site-packages\\sklearn\\utils\\deprecation.py:87: FutureWarning: Function plot_confusion_matrix is deprecated; Function `plot_confusion_matrix` is deprecated in 1.0 and will be removed in 1.2. Use one of the class methods: ConfusionMatrixDisplay.from_predictions or ConfusionMatrixDisplay.from_estimator.\n",
      "  warnings.warn(msg, category=FutureWarning)\n"
     ]
    },
    {
     "data": {
      "text/plain": [
       "<sklearn.metrics._plot.confusion_matrix.ConfusionMatrixDisplay at 0x16263310ee0>"
      ]
     },
     "execution_count": 31,
     "metadata": {},
     "output_type": "execute_result"
    },
    {
     "data": {
      "image/png": "[encoded data removed]",
      "text/plain": [
       "<Figure size 432x288 with 2 Axes>"
      ]
     },
     "metadata": {
      "needs_background": "light"
     },
     "output_type": "display_data"
    }
   ],
   "source": [
    "plot_confusion_matrix(dtree, X_test, y_test, values_format='d' )"
   ]
  },
  {
   "cell_type": "code",
   "execution_count": 32,
   "id": "1d0982f6-a4ef-47da-b1b4-ff35ccacedf5",
   "metadata": {},
   "outputs": [],
   "source": [
    "from sklearn.metrics import recall_score"
   ]
  },
  {
   "cell_type": "markdown",
   "id": "2c94e67e-dcd0-4d62-8257-15e68e45ae19",
   "metadata": {},
   "source": [
    "### Recall score for people who are predicted to be dead"
   ]
  },
  {
   "cell_type": "code",
   "execution_count": 33,
   "id": "d6b89e70-dee5-4006-a769-3c0ddc0ba945",
   "metadata": {},
   "outputs": [
    {
     "data": {
      "text/plain": [
       "0.8"
      ]
     },
     "execution_count": 33,
     "metadata": {},
     "output_type": "execute_result"
    }
   ],
   "source": [
    "recall_score(y_test, y_pred, average = 'binary', pos_label = 0)"
   ]
  },
  {
   "cell_type": "code",
   "execution_count": 34,
   "id": "c86373f3-2ce1-4a1c-ac6d-c74d4798203c",
   "metadata": {},
   "outputs": [
    {
     "data": {
      "text/plain": [
       "0.7875"
      ]
     },
     "execution_count": 34,
     "metadata": {},
     "output_type": "execute_result"
    }
   ],
   "source": [
    "# True 0 & Predicted 0: 63\n",
    "## True 0: 63 + 17 = 80\n",
    "\n",
    "63/80"
   ]
  },
  {
   "cell_type": "markdown",
   "id": "7a4a70ea-b761-46f3-ab20-6ce31f2d70cb",
   "metadata": {},
   "source": [
    "### Precision score for people who are predicted to be dead"
   ]
  },
  {
   "cell_type": "code",
   "execution_count": 35,
   "id": "6968d67e-117a-4d9e-9adf-bbca1623ba00",
   "metadata": {},
   "outputs": [],
   "source": [
    "from sklearn.metrics import precision_score"
   ]
  },
  {
   "cell_type": "code",
   "execution_count": 37,
   "id": "86e9c233-1ce0-4a83-9f51-e5dd3138b085",
   "metadata": {},
   "outputs": [
    {
     "data": {
      "text/plain": [
       "0.735632183908046"
      ]
     },
     "execution_count": 37,
     "metadata": {},
     "output_type": "execute_result"
    }
   ],
   "source": [
    "precision_score(y_test, y_pred, average='binary', pos_label = 0)"
   ]
  },
  {
   "cell_type": "code",
   "execution_count": 38,
   "id": "897186ee-50a4-4686-bb67-ac07cb6582e3",
   "metadata": {},
   "outputs": [],
   "source": [
    "TP = 63\n",
    "# False 0 -> predicted 0 but actually 1\n",
    "FP = 23"
   ]
  },
  {
   "cell_type": "code",
   "execution_count": 39,
   "id": "40bfe615-6a5b-43b6-bdf7-bba9041bd9d5",
   "metadata": {},
   "outputs": [
    {
     "data": {
      "text/plain": [
       "0.7325581395348837"
      ]
     },
     "execution_count": 39,
     "metadata": {},
     "output_type": "execute_result"
    }
   ],
   "source": [
    "TP / (TP + FP)"
   ]
  },
  {
   "cell_type": "markdown",
   "id": "874feeb5-f7a6-478d-873e-f5eab2ad625b",
   "metadata": {},
   "source": [
    "### Average Precision and Recall"
   ]
  },
  {
   "cell_type": "code",
   "execution_count": 40,
   "id": "13d46e64-a7fc-468b-848e-31ffd886b25e",
   "metadata": {},
   "outputs": [
    {
     "data": {
      "text/plain": [
       "0.7272727272727273"
      ]
     },
     "execution_count": 40,
     "metadata": {},
     "output_type": "execute_result"
    }
   ],
   "source": [
    "recall_score(y_test, y_pred, average = 'micro')"
   ]
  },
  {
   "cell_type": "code",
   "execution_count": 41,
   "id": "63f46e94-0a22-4291-bed2-589456d9e48c",
   "metadata": {},
   "outputs": [
    {
     "data": {
      "text/plain": [
       "0.7174603174603175"
      ]
     },
     "execution_count": 41,
     "metadata": {},
     "output_type": "execute_result"
    }
   ],
   "source": [
    "recall_score(y_test, y_pred, average = 'macro')"
   ]
  },
  {
   "cell_type": "code",
   "execution_count": 42,
   "id": "9a938fb3-8919-4c68-9370-413f61ca995d",
   "metadata": {},
   "outputs": [
    {
     "data": {
      "text/plain": [
       "0.7272727272727273"
      ]
     },
     "execution_count": 42,
     "metadata": {},
     "output_type": "execute_result"
    }
   ],
   "source": [
    "recall_score(y_test, y_pred, average = 'weighted')"
   ]
  },
  {
   "cell_type": "code",
   "execution_count": 43,
   "id": "1f7453dd-f401-459e-8188-4b9745ff0028",
   "metadata": {},
   "outputs": [],
   "source": [
    "from sklearn.metrics import precision_recall_fscore_support"
   ]
  },
  {
   "cell_type": "code",
   "execution_count": 45,
   "id": "02be4906-9433-4db8-8792-1503067d8b61",
   "metadata": {},
   "outputs": [
    {
     "data": {
      "text/plain": [
       "(0.7249589490968802, 0.7174603174603175, 0.7193679867156443, None)"
      ]
     },
     "execution_count": 45,
     "metadata": {},
     "output_type": "execute_result"
    }
   ],
   "source": [
    "precision_recall_fscore_support(y_test, y_pred, average='macro')"
   ]
  },
  {
   "cell_type": "code",
   "execution_count": 46,
   "id": "49f81c20-7243-4b25-8740-83f0de291fc6",
   "metadata": {},
   "outputs": [
    {
     "data": {
      "text/plain": [
       "(array([0.73563218, 0.71428571]),\n",
       " array([0.8       , 0.63492063]),\n",
       " array([0.76646707, 0.67226891]),\n",
       " array([80, 63], dtype=int64))"
      ]
     },
     "execution_count": 46,
     "metadata": {},
     "output_type": "execute_result"
    }
   ],
   "source": [
    "precision_recall_fscore_support(y_test, y_pred)"
   ]
  },
  {
   "cell_type": "code",
   "execution_count": null,
   "id": "b80463e4-1749-4737-ab60-864c2ca386c2",
   "metadata": {},
   "outputs": [],
   "source": []
  }
 ],
 "metadata": {
  "kernelspec": {
   "display_name": "Python 3 (ipykernel)",
   "language": "python",
   "name": "python3"
  },
  "language_info": {
   "codemirror_mode": {
    "name": "ipython",
    "version": 3
   },
   "file_extension": ".py",
   "mimetype": "text/x-python",
   "name": "python",
   "nbconvert_exporter": "python",
   "pygments_lexer": "ipython3",
   "version": "3.9.12"
  }
 },
 "nbformat": 4,
 "nbformat_minor": 5
}
