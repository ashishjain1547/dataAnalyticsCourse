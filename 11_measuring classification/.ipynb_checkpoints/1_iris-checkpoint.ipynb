{
 "cells": [
  {
   "cell_type": "code",
   "execution_count": 14,
   "id": "22cbc09f-9443-4edc-9e3b-2c1be62d61bf",
   "metadata": {},
   "outputs": [],
   "source": [
    "import pandas as pd\n",
    "from sklearn import datasets\n",
    "import random\n",
    "import math"
   ]
  },
  {
   "cell_type": "code",
   "execution_count": 2,
   "id": "a19421c3-16eb-40a7-bd99-943d6f225822",
   "metadata": {},
   "outputs": [],
   "source": [
    "iris = datasets.load_iris()"
   ]
  },
  {
   "cell_type": "code",
   "execution_count": 3,
   "id": "887f72d5-0809-45bc-82a0-a5a7faa55691",
   "metadata": {},
   "outputs": [],
   "source": [
    "df = pd.DataFrame(iris.data, columns = iris.feature_names)\n",
    "df['target'] = iris.target"
   ]
  },
  {
   "cell_type": "markdown",
   "id": "38ee302d-8939-4d57-961c-8e76f0d9b116",
   "metadata": {},
   "source": [
    "# Creating validation set"
   ]
  },
  {
   "cell_type": "code",
   "execution_count": 17,
   "id": "f1dc8d45-80ac-404c-a422-9ce59dbf0127",
   "metadata": {},
   "outputs": [],
   "source": [
    "df_validation_indices = random.sample(range(df.shape[0]), \n",
    "                                      k = math.floor(df.shape[0] * 0.1) )"
   ]
  },
  {
   "cell_type": "code",
   "execution_count": 18,
   "id": "1df00b98-cac3-4ef4-92c6-a6b8573bc5c7",
   "metadata": {},
   "outputs": [
    {
     "data": {
      "text/plain": [
       "[101, 47, 138, 108, 71, 142, 43, 133, 149, 100, 12, 67, 131, 97, 129]"
      ]
     },
     "execution_count": 18,
     "metadata": {},
     "output_type": "execute_result"
    }
   ],
   "source": [
    "df_validation_indices"
   ]
  },
  {
   "cell_type": "code",
   "execution_count": 19,
   "id": "465d1530-a2a1-48d8-af4b-caaf20359d37",
   "metadata": {},
   "outputs": [],
   "source": [
    "df_train_test_indices = [i for i in list(range(df.shape[0])) \n",
    "                         if i not in df_validation_indices]"
   ]
  },
  {
   "cell_type": "code",
   "execution_count": 25,
   "id": "f183e4ee-6d20-4442-a0dc-681514d1aee8",
   "metadata": {},
   "outputs": [
    {
     "data": {
      "text/plain": [
       "[0, 1, 2, 3, 4, 5, 6, 7, 8, 9, 10, 11, 13, 14, 15, 16, 17, 18, 19, 20]"
      ]
     },
     "execution_count": 25,
     "metadata": {},
     "output_type": "execute_result"
    }
   ],
   "source": [
    "df_train_test_indices[:20]"
   ]
  },
  {
   "cell_type": "code",
   "execution_count": 26,
   "id": "3fec5530-baa3-4445-9e65-2137f5caeb95",
   "metadata": {},
   "outputs": [],
   "source": [
    "df_validation = df.loc[df_validation_indices]"
   ]
  },
  {
   "cell_type": "code",
   "execution_count": 27,
   "id": "d95919f6-96d2-4a63-8b1d-7cec55b0effd",
   "metadata": {},
   "outputs": [
    {
     "data": {
      "text/html": [
       "<div>\n",
       "<style scoped>\n",
       "    .dataframe tbody tr th:only-of-type {\n",
       "        vertical-align: middle;\n",
       "    }\n",
       "\n",
       "    .dataframe tbody tr th {\n",
       "        vertical-align: top;\n",
       "    }\n",
       "\n",
       "    .dataframe thead th {\n",
       "        text-align: right;\n",
       "    }\n",
       "</style>\n",
       "<table border=\"1\" class=\"dataframe\">\n",
       "  <thead>\n",
       "    <tr style=\"text-align: right;\">\n",
       "      <th></th>\n",
       "      <th>sepal length (cm)</th>\n",
       "      <th>sepal width (cm)</th>\n",
       "      <th>petal length (cm)</th>\n",
       "      <th>petal width (cm)</th>\n",
       "      <th>target</th>\n",
       "    </tr>\n",
       "  </thead>\n",
       "  <tbody>\n",
       "    <tr>\n",
       "      <th>101</th>\n",
       "      <td>5.8</td>\n",
       "      <td>2.7</td>\n",
       "      <td>5.1</td>\n",
       "      <td>1.9</td>\n",
       "      <td>2</td>\n",
       "    </tr>\n",
       "    <tr>\n",
       "      <th>47</th>\n",
       "      <td>4.6</td>\n",
       "      <td>3.2</td>\n",
       "      <td>1.4</td>\n",
       "      <td>0.2</td>\n",
       "      <td>0</td>\n",
       "    </tr>\n",
       "    <tr>\n",
       "      <th>138</th>\n",
       "      <td>6.0</td>\n",
       "      <td>3.0</td>\n",
       "      <td>4.8</td>\n",
       "      <td>1.8</td>\n",
       "      <td>2</td>\n",
       "    </tr>\n",
       "    <tr>\n",
       "      <th>108</th>\n",
       "      <td>6.7</td>\n",
       "      <td>2.5</td>\n",
       "      <td>5.8</td>\n",
       "      <td>1.8</td>\n",
       "      <td>2</td>\n",
       "    </tr>\n",
       "    <tr>\n",
       "      <th>71</th>\n",
       "      <td>6.1</td>\n",
       "      <td>2.8</td>\n",
       "      <td>4.0</td>\n",
       "      <td>1.3</td>\n",
       "      <td>1</td>\n",
       "    </tr>\n",
       "    <tr>\n",
       "      <th>142</th>\n",
       "      <td>5.8</td>\n",
       "      <td>2.7</td>\n",
       "      <td>5.1</td>\n",
       "      <td>1.9</td>\n",
       "      <td>2</td>\n",
       "    </tr>\n",
       "    <tr>\n",
       "      <th>43</th>\n",
       "      <td>5.0</td>\n",
       "      <td>3.5</td>\n",
       "      <td>1.6</td>\n",
       "      <td>0.6</td>\n",
       "      <td>0</td>\n",
       "    </tr>\n",
       "    <tr>\n",
       "      <th>133</th>\n",
       "      <td>6.3</td>\n",
       "      <td>2.8</td>\n",
       "      <td>5.1</td>\n",
       "      <td>1.5</td>\n",
       "      <td>2</td>\n",
       "    </tr>\n",
       "    <tr>\n",
       "      <th>149</th>\n",
       "      <td>5.9</td>\n",
       "      <td>3.0</td>\n",
       "      <td>5.1</td>\n",
       "      <td>1.8</td>\n",
       "      <td>2</td>\n",
       "    </tr>\n",
       "    <tr>\n",
       "      <th>100</th>\n",
       "      <td>6.3</td>\n",
       "      <td>3.3</td>\n",
       "      <td>6.0</td>\n",
       "      <td>2.5</td>\n",
       "      <td>2</td>\n",
       "    </tr>\n",
       "    <tr>\n",
       "      <th>12</th>\n",
       "      <td>4.8</td>\n",
       "      <td>3.0</td>\n",
       "      <td>1.4</td>\n",
       "      <td>0.1</td>\n",
       "      <td>0</td>\n",
       "    </tr>\n",
       "    <tr>\n",
       "      <th>67</th>\n",
       "      <td>5.8</td>\n",
       "      <td>2.7</td>\n",
       "      <td>4.1</td>\n",
       "      <td>1.0</td>\n",
       "      <td>1</td>\n",
       "    </tr>\n",
       "    <tr>\n",
       "      <th>131</th>\n",
       "      <td>7.9</td>\n",
       "      <td>3.8</td>\n",
       "      <td>6.4</td>\n",
       "      <td>2.0</td>\n",
       "      <td>2</td>\n",
       "    </tr>\n",
       "    <tr>\n",
       "      <th>97</th>\n",
       "      <td>6.2</td>\n",
       "      <td>2.9</td>\n",
       "      <td>4.3</td>\n",
       "      <td>1.3</td>\n",
       "      <td>1</td>\n",
       "    </tr>\n",
       "    <tr>\n",
       "      <th>129</th>\n",
       "      <td>7.2</td>\n",
       "      <td>3.0</td>\n",
       "      <td>5.8</td>\n",
       "      <td>1.6</td>\n",
       "      <td>2</td>\n",
       "    </tr>\n",
       "  </tbody>\n",
       "</table>\n",
       "</div>"
      ],
      "text/plain": [
       "     sepal length (cm)  sepal width (cm)  petal length (cm)  petal width (cm)  \\\n",
       "101                5.8               2.7                5.1               1.9   \n",
       "47                 4.6               3.2                1.4               0.2   \n",
       "138                6.0               3.0                4.8               1.8   \n",
       "108                6.7               2.5                5.8               1.8   \n",
       "71                 6.1               2.8                4.0               1.3   \n",
       "142                5.8               2.7                5.1               1.9   \n",
       "43                 5.0               3.5                1.6               0.6   \n",
       "133                6.3               2.8                5.1               1.5   \n",
       "149                5.9               3.0                5.1               1.8   \n",
       "100                6.3               3.3                6.0               2.5   \n",
       "12                 4.8               3.0                1.4               0.1   \n",
       "67                 5.8               2.7                4.1               1.0   \n",
       "131                7.9               3.8                6.4               2.0   \n",
       "97                 6.2               2.9                4.3               1.3   \n",
       "129                7.2               3.0                5.8               1.6   \n",
       "\n",
       "     target  \n",
       "101       2  \n",
       "47        0  \n",
       "138       2  \n",
       "108       2  \n",
       "71        1  \n",
       "142       2  \n",
       "43        0  \n",
       "133       2  \n",
       "149       2  \n",
       "100       2  \n",
       "12        0  \n",
       "67        1  \n",
       "131       2  \n",
       "97        1  \n",
       "129       2  "
      ]
     },
     "execution_count": 27,
     "metadata": {},
     "output_type": "execute_result"
    }
   ],
   "source": [
    "df_validation"
   ]
  },
  {
   "cell_type": "code",
   "execution_count": 4,
   "id": "3370d6af-5702-45ce-976d-f45e491aafa8",
   "metadata": {},
   "outputs": [],
   "source": [
    "from sklearn.tree import plot_tree\n",
    "from sklearn.tree import DecisionTreeClassifier\n",
    "from sklearn.model_selection import train_test_split"
   ]
  },
  {
   "cell_type": "code",
   "execution_count": 5,
   "id": "709dc22d-07af-4593-8eeb-b293a4f80503",
   "metadata": {},
   "outputs": [],
   "source": [
    "clf = DecisionTreeClassifier(random_state=0)"
   ]
  },
  {
   "cell_type": "code",
   "execution_count": 6,
   "id": "9ad27a01-4484-4d5b-9b93-e65f83db1cbd",
   "metadata": {},
   "outputs": [],
   "source": [
    "X = df[['sepal length (cm)', 'sepal width (cm)', 'petal length (cm)', \n",
    "       'petal width (cm)']]"
   ]
  },
  {
   "cell_type": "code",
   "execution_count": 7,
   "id": "74d93653-3383-42a9-80d3-d7fb1cb428ee",
   "metadata": {},
   "outputs": [],
   "source": [
    "y = df['target']"
   ]
  },
  {
   "cell_type": "code",
   "execution_count": 8,
   "id": "271ba2f8-abb7-430b-ae77-8a763d9ae7ee",
   "metadata": {},
   "outputs": [],
   "source": [
    "X_train, X_test, y_train, y_test = train_test_split(X, y, test_size=0.20, random_state=42)"
   ]
  },
  {
   "cell_type": "code",
   "execution_count": 9,
   "id": "90d5b4c6-9402-4fa1-a473-d2bc0eedb081",
   "metadata": {},
   "outputs": [
    {
     "data": {
      "text/plain": [
       "DecisionTreeClassifier(random_state=0)"
      ]
     },
     "execution_count": 9,
     "metadata": {},
     "output_type": "execute_result"
    }
   ],
   "source": [
    "clf.fit(X_train, y_train)"
   ]
  },
  {
   "cell_type": "code",
   "execution_count": 10,
   "id": "0a327b71-ce01-48bd-967a-4812f6ad6d51",
   "metadata": {},
   "outputs": [],
   "source": [
    "y_pred = clf.predict(X_test)"
   ]
  },
  {
   "cell_type": "code",
   "execution_count": 11,
   "id": "6e9afa53-93b9-4028-b18e-330c0abb3df0",
   "metadata": {},
   "outputs": [
    {
     "data": {
      "text/plain": [
       "array([1, 0, 2, 1, 1, 0, 1, 2, 1, 1, 2, 0, 0, 0, 0, 1, 2, 1, 1, 2, 0, 2,\n",
       "       0, 2, 2, 2, 2, 2, 0, 0])"
      ]
     },
     "execution_count": 11,
     "metadata": {},
     "output_type": "execute_result"
    }
   ],
   "source": [
    "y_pred"
   ]
  },
  {
   "cell_type": "code",
   "execution_count": null,
   "id": "15e5abb5-36e9-42b1-a3ab-00b05002d8b1",
   "metadata": {},
   "outputs": [],
   "source": []
  }
 ],
 "metadata": {
  "kernelspec": {
   "display_name": "Python 3 (ipykernel)",
   "language": "python",
   "name": "python3"
  },
  "language_info": {
   "codemirror_mode": {
    "name": "ipython",
    "version": 3
   },
   "file_extension": ".py",
   "mimetype": "text/x-python",
   "name": "python",
   "nbconvert_exporter": "python",
   "pygments_lexer": "ipython3",
   "version": "3.9.13"
  }
 },
 "nbformat": 4,
 "nbformat_minor": 5
}
