{
 "cells": [
  {
   "cell_type": "code",
   "execution_count": 3,
   "id": "287a8e8b-6134-4f9b-bce7-4c96de4783b7",
   "metadata": {},
   "outputs": [],
   "source": [
    "import statistics as st\n",
    "import pandas as pd"
   ]
  },
  {
   "cell_type": "code",
   "execution_count": 4,
   "id": "31239901-a24f-4c10-8aa0-1d6f04a46843",
   "metadata": {},
   "outputs": [],
   "source": [
    "# Available python packages to implement the same : Pandas, NumPy, SciPy & statsmodels"
   ]
  },
  {
   "cell_type": "code",
   "execution_count": 5,
   "id": "2737ff3d-ce07-4c8d-8da5-672b28685367",
   "metadata": {},
   "outputs": [],
   "source": [
    "DataSet = [13, 15, 16, 16, 19, 20, 20, 21, 22, 22, 25, 25, 25, 25, 30, 33, 33, 35, 35, \n",
    "           35, 36, 40, 45, 46, 52, 70]"
   ]
  },
  {
   "cell_type": "code",
   "execution_count": 6,
   "id": "fc69f358-7b92-4d8e-84a1-022abc37feb8",
   "metadata": {},
   "outputs": [
    {
     "data": {
      "text/plain": [
       "[13,\n",
       " 15,\n",
       " 16,\n",
       " 16,\n",
       " 19,\n",
       " 20,\n",
       " 20,\n",
       " 21,\n",
       " 22,\n",
       " 22,\n",
       " 25,\n",
       " 25,\n",
       " 25,\n",
       " 25,\n",
       " 30,\n",
       " 33,\n",
       " 33,\n",
       " 35,\n",
       " 35,\n",
       " 35,\n",
       " 36,\n",
       " 40,\n",
       " 45,\n",
       " 46,\n",
       " 52,\n",
       " 70]"
      ]
     },
     "execution_count": 6,
     "metadata": {},
     "output_type": "execute_result"
    }
   ],
   "source": [
    "DataSet"
   ]
  },
  {
   "cell_type": "code",
   "execution_count": 7,
   "id": "b4519309-5a66-4998-8bb8-ac710a13d93b",
   "metadata": {},
   "outputs": [
    {
     "data": {
      "text/plain": [
       "774"
      ]
     },
     "execution_count": 7,
     "metadata": {},
     "output_type": "execute_result"
    }
   ],
   "source": [
    "sum(DataSet)"
   ]
  },
  {
   "cell_type": "code",
   "execution_count": 8,
   "id": "45e4957b-fdde-47c9-b810-0bc9260f6851",
   "metadata": {},
   "outputs": [
    {
     "name": "stdout",
     "output_type": "stream",
     "text": [
      "Counter({25: 4, 35: 3, 16: 2, 20: 2, 22: 2, 33: 2, 13: 1, 15: 1, 19: 1, 21: 1, 30: 1, 36: 1, 40: 1, 45: 1, 46: 1, 52: 1, 70: 1})\n"
     ]
    }
   ],
   "source": [
    "from collections import Counter \n",
    "print(Counter(DataSet))"
   ]
  },
  {
   "cell_type": "markdown",
   "id": "093eb023-9980-4f9b-becf-79acb523a656",
   "metadata": {},
   "source": [
    "# Mean"
   ]
  },
  {
   "cell_type": "code",
   "execution_count": 9,
   "id": "8d854b88-b2b1-498a-a7da-9e7965642b6b",
   "metadata": {},
   "outputs": [
    {
     "data": {
      "text/plain": [
       "29.76923076923077"
      ]
     },
     "execution_count": 9,
     "metadata": {},
     "output_type": "execute_result"
    }
   ],
   "source": [
    "sum(DataSet) / len(DataSet)"
   ]
  },
  {
   "cell_type": "code",
   "execution_count": 10,
   "id": "5e87cb1c-2ca4-4fb9-a03f-e87089651ce2",
   "metadata": {},
   "outputs": [
    {
     "data": {
      "text/plain": [
       "29.76923076923077"
      ]
     },
     "execution_count": 10,
     "metadata": {},
     "output_type": "execute_result"
    }
   ],
   "source": [
    "st.mean(DataSet)"
   ]
  },
  {
   "cell_type": "code",
   "execution_count": 11,
   "id": "0b6c2149-7af2-4780-9c7e-ec8830bdb886",
   "metadata": {},
   "outputs": [
    {
     "data": {
      "text/plain": [
       "29.76923076923077"
      ]
     },
     "execution_count": 11,
     "metadata": {},
     "output_type": "execute_result"
    }
   ],
   "source": [
    "s = pd.Series(DataSet)\n",
    "s.mean()"
   ]
  },
  {
   "cell_type": "markdown",
   "id": "ae55760d-cf6a-455d-8596-88799269e603",
   "metadata": {},
   "source": [
    "# Using statistics package"
   ]
  },
  {
   "cell_type": "code",
   "execution_count": 12,
   "id": "6f5cc8c5-63de-40a6-8659-3dd7bf8feb8b",
   "metadata": {},
   "outputs": [
    {
     "data": {
      "text/plain": [
       "774"
      ]
     },
     "execution_count": 12,
     "metadata": {},
     "output_type": "execute_result"
    }
   ],
   "source": [
    "# Sum of all items of Data Set \n",
    "sum(DataSet)"
   ]
  },
  {
   "cell_type": "code",
   "execution_count": 13,
   "id": "8992b1d9-0034-4308-b5fe-55f278d5e9df",
   "metadata": {},
   "outputs": [
    {
     "name": "stdout",
     "output_type": "stream",
     "text": [
      "Counter({25: 4, 35: 3, 16: 2, 20: 2, 22: 2, 33: 2, 13: 1, 15: 1, 19: 1, 21: 1, 30: 1, 36: 1, 40: 1, 45: 1, 46: 1, 52: 1, 70: 1})\n"
     ]
    }
   ],
   "source": [
    "# Getting Count of each items using counter collection \n",
    "\n",
    "# Counter is an unordered collection where elements are stored as Dict keys \n",
    "# and their count as dict value \n",
    "\n",
    "from collections import Counter \n",
    "\n",
    "print(Counter(DataSet))"
   ]
  },
  {
   "cell_type": "code",
   "execution_count": 14,
   "id": "a0279043-144c-48e9-b46b-b020b6f67259",
   "metadata": {},
   "outputs": [],
   "source": [
    "l = ['alpha', 'beta', 'gamma', 'delta', 'alpha', 'beta', 'gamma', 'gamma']"
   ]
  },
  {
   "cell_type": "code",
   "execution_count": 15,
   "id": "ee42b9ca-b3cc-4dc4-a767-41526ce24f7b",
   "metadata": {},
   "outputs": [
    {
     "data": {
      "text/plain": [
       "Counter({'alpha': 2, 'beta': 2, 'gamma': 3, 'delta': 1})"
      ]
     },
     "execution_count": 15,
     "metadata": {},
     "output_type": "execute_result"
    }
   ],
   "source": [
    "Counter(l)"
   ]
  },
  {
   "cell_type": "code",
   "execution_count": 19,
   "id": "53d07a1b-090e-45e5-9253-27fcbaf318f1",
   "metadata": {},
   "outputs": [],
   "source": [
    "k = ['alpha', 'beta', 'gamma', 'delta', 'alpha', 'beta', 'gamma', 'gamma',\n",
    "    1, 2, 3, 1, 2, 1]"
   ]
  },
  {
   "cell_type": "code",
   "execution_count": 20,
   "id": "77151daa-e86d-4352-af24-045f849fb0e2",
   "metadata": {},
   "outputs": [
    {
     "data": {
      "text/plain": [
       "Counter({'alpha': 2, 'beta': 2, 'gamma': 3, 'delta': 1, 1: 3, 2: 2, 3: 1})"
      ]
     },
     "execution_count": 20,
     "metadata": {},
     "output_type": "execute_result"
    }
   ],
   "source": [
    "Counter(k)"
   ]
  },
  {
   "cell_type": "code",
   "execution_count": 21,
   "id": "b3d74811-1f54-476d-8968-f0c06874fe67",
   "metadata": {},
   "outputs": [
    {
     "data": {
      "text/plain": [
       "29.76923076923077"
      ]
     },
     "execution_count": 21,
     "metadata": {},
     "output_type": "execute_result"
    }
   ],
   "source": [
    "# Mean -> Sum of all data items / total no of data items\n",
    "st.mean(DataSet)"
   ]
  },
  {
   "cell_type": "code",
   "execution_count": 2,
   "id": "50ec0131-eb9d-4ee6-bab2-e3e20b9a62ef",
   "metadata": {},
   "outputs": [
    {
     "name": "stdout",
     "output_type": "stream",
     "text": [
      "Sum of all items of Data Set : 774\n",
      "Count of each items in Data Set : \n",
      "Counter({25: 4, 35: 3, 16: 2, 20: 2, 22: 2, 33: 2, 13: 1, 15: 1, 19: 1, 21: 1, 30: 1, 36: 1, 40: 1, 45: 1, 46: 1, 52: 1, 70: 1})\n",
      "Mean of Data Set : \n",
      "29.76923076923077\n",
      "Median of Data Set : \n",
      "25.0\n",
      "Mode of Data Set : \n",
      "25\n",
      "Mid Range Value Of Data Set : \n",
      "41.5\n",
      "Quantiles Of Data Set : \n",
      "[20.0, 25.0, 35.25]\n",
      "Std. Deviation Of Data Set : \n",
      "13.158442741624686\n",
      "Variance Of Data Set : \n",
      "173.14461538461538\n"
     ]
    }
   ],
   "source": [
    "# Median -> Average of two items exist in mid of data set \n",
    "\n",
    "print(\"Median of Data Set : \")\n",
    "print(st.median(DataSet))\n",
    "\n",
    "# Mode -> Item with highest frequency of appearance \n",
    "\n",
    "print(\"Mode of Data Set : \")\n",
    "print(st.mode(DataSet))\n",
    "\n",
    "# Mid-range -> Average of MaxVale And MinValue item\n",
    "\n",
    "print(\"Mid Range Value Of Data Set : \")\n",
    "print(st.mean([max(DataSet), min(DataSet)]))\n",
    "\n",
    "# Other Useful statistical measures\n",
    "\n",
    "print(\"Quantiles Of Data Set : \")\n",
    "print(st.quantiles(data = DataSet, n = 4)) # [20.0, 25.0, 35.25]\n",
    "\n",
    "print(\"Std. Deviation Of Data Set : \")\n",
    "print(st.stdev(DataSet))\n",
    "\n",
    "print(\"Variance Of Data Set : \")\n",
    "print(st.variance(DataSet))"
   ]
  },
  {
   "cell_type": "markdown",
   "id": "275b2e87-eace-435e-8221-d087ebf63e30",
   "metadata": {},
   "source": [
    "# Correlation"
   ]
  },
  {
   "cell_type": "code",
   "execution_count": 3,
   "id": "58f25bef-ff6f-4aa0-9060-9a42468e19d0",
   "metadata": {},
   "outputs": [],
   "source": [
    "import pandas as pd"
   ]
  },
  {
   "cell_type": "code",
   "execution_count": 4,
   "id": "16bfe4d5-fa31-4f8e-a42e-2e75fcfcd0f1",
   "metadata": {},
   "outputs": [],
   "source": [
    "df = pd.read_csv('HeightWeight.csv')"
   ]
  },
  {
   "cell_type": "code",
   "execution_count": 5,
   "id": "2857ad7e-932a-4e31-b38f-8c3d7cf576cd",
   "metadata": {},
   "outputs": [
    {
     "data": {
      "text/html": [
       "<div>\n",
       "<style scoped>\n",
       "    .dataframe tbody tr th:only-of-type {\n",
       "        vertical-align: middle;\n",
       "    }\n",
       "\n",
       "    .dataframe tbody tr th {\n",
       "        vertical-align: top;\n",
       "    }\n",
       "\n",
       "    .dataframe thead th {\n",
       "        text-align: right;\n",
       "    }\n",
       "</style>\n",
       "<table border=\"1\" class=\"dataframe\">\n",
       "  <thead>\n",
       "    <tr style=\"text-align: right;\">\n",
       "      <th></th>\n",
       "      <th>Index</th>\n",
       "      <th>Height(Inches)</th>\n",
       "      <th>Weight(Pounds)</th>\n",
       "    </tr>\n",
       "  </thead>\n",
       "  <tbody>\n",
       "    <tr>\n",
       "      <th>0</th>\n",
       "      <td>1</td>\n",
       "      <td>65.78331</td>\n",
       "      <td>112.9925</td>\n",
       "    </tr>\n",
       "    <tr>\n",
       "      <th>1</th>\n",
       "      <td>2</td>\n",
       "      <td>71.51521</td>\n",
       "      <td>136.4873</td>\n",
       "    </tr>\n",
       "    <tr>\n",
       "      <th>2</th>\n",
       "      <td>3</td>\n",
       "      <td>69.39874</td>\n",
       "      <td>153.0269</td>\n",
       "    </tr>\n",
       "    <tr>\n",
       "      <th>3</th>\n",
       "      <td>4</td>\n",
       "      <td>68.21660</td>\n",
       "      <td>142.3354</td>\n",
       "    </tr>\n",
       "    <tr>\n",
       "      <th>4</th>\n",
       "      <td>5</td>\n",
       "      <td>67.78781</td>\n",
       "      <td>144.2971</td>\n",
       "    </tr>\n",
       "  </tbody>\n",
       "</table>\n",
       "</div>"
      ],
      "text/plain": [
       "   Index  Height(Inches)  Weight(Pounds)\n",
       "0      1        65.78331        112.9925\n",
       "1      2        71.51521        136.4873\n",
       "2      3        69.39874        153.0269\n",
       "3      4        68.21660        142.3354\n",
       "4      5        67.78781        144.2971"
      ]
     },
     "execution_count": 5,
     "metadata": {},
     "output_type": "execute_result"
    }
   ],
   "source": [
    "df.head()"
   ]
  },
  {
   "cell_type": "code",
   "execution_count": 8,
   "id": "a91be771-cae8-4f8f-a3ec-929590344e4a",
   "metadata": {},
   "outputs": [
    {
     "data": {
      "text/plain": [
       "0.5028585206028441"
      ]
     },
     "execution_count": 8,
     "metadata": {},
     "output_type": "execute_result"
    }
   ],
   "source": [
    "st.correlation(df['Height(Inches)'], df['Weight(Pounds)'])"
   ]
  },
  {
   "cell_type": "markdown",
   "id": "adc6a66b-33f5-426e-8ea4-da2b51a41a71",
   "metadata": {},
   "source": [
    "# Linear Regression"
   ]
  },
  {
   "cell_type": "code",
   "execution_count": 6,
   "id": "19a6f64c-b294-43ad-9359-93933989fd83",
   "metadata": {},
   "outputs": [],
   "source": [
    "# New in version 3.10\n",
    "slope, intercept = st.linear_regression(df['Height(Inches)'], df['Weight(Pounds)'])"
   ]
  },
  {
   "cell_type": "code",
   "execution_count": 7,
   "id": "50a8f4ab-8c74-484f-ba5b-ab6b0ea75c8d",
   "metadata": {},
   "outputs": [
    {
     "data": {
      "text/plain": [
       "(3.0834764454029657, -82.57574306454092)"
      ]
     },
     "execution_count": 7,
     "metadata": {},
     "output_type": "execute_result"
    }
   ],
   "source": [
    "slope, intercept"
   ]
  },
  {
   "cell_type": "code",
   "execution_count": null,
   "id": "bd12e8ad-ac45-432d-9c66-6b124654b7a6",
   "metadata": {},
   "outputs": [],
   "source": []
  }
 ],
 "metadata": {
  "kernelspec": {
   "display_name": "py310",
   "language": "python",
   "name": "py310"
  },
  "language_info": {
   "codemirror_mode": {
    "name": "ipython",
    "version": 3
   },
   "file_extension": ".py",
   "mimetype": "text/x-python",
   "name": "python",
   "nbconvert_exporter": "python",
   "pygments_lexer": "ipython3",
   "version": "3.10.10"
  }
 },
 "nbformat": 4,
 "nbformat_minor": 5
}
