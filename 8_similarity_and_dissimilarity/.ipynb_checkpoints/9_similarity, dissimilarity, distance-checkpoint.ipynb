{
 "cells": [
  {
   "cell_type": "markdown",
   "id": "cf31b260-7092-4713-b28f-35b0c2d8f925",
   "metadata": {},
   "source": [
    "# Euclidean Distance"
   ]
  },
  {
   "cell_type": "code",
   "execution_count": 14,
   "id": "59ad1482-206a-4e3a-b758-5292b2460773",
   "metadata": {},
   "outputs": [],
   "source": [
    "from scipy.spatial import distance"
   ]
  },
  {
   "cell_type": "code",
   "execution_count": 4,
   "id": "3c181bb3-1c66-48c8-8108-5b5acb989425",
   "metadata": {},
   "outputs": [
    {
     "name": "stdout",
     "output_type": "stream",
     "text": [
      "1.4142135623730951\n"
     ]
    }
   ],
   "source": [
    "import math\n",
    "A = (2, 4)\n",
    "B = (1, 3)\n",
    "print(math.dist(A, B))"
   ]
  },
  {
   "cell_type": "code",
   "execution_count": 5,
   "id": "9877bc22-2e8e-48c4-9f51-1034b89e4df3",
   "metadata": {},
   "outputs": [
    {
     "name": "stdout",
     "output_type": "stream",
     "text": [
      "4.58257569495584\n"
     ]
    }
   ],
   "source": [
    "A = (2, 7, 5)\n",
    "B = (4, 8, 9)\n",
    "print(math.dist(A, B))"
   ]
  },
  {
   "cell_type": "code",
   "execution_count": 1,
   "id": "d34a9ef0-b8a1-4ba5-8274-5e42ecc49594",
   "metadata": {},
   "outputs": [
    {
     "name": "stdout",
     "output_type": "stream",
     "text": [
      "2.8284271247461903\n"
     ]
    }
   ],
   "source": [
    "import numpy as np\n",
    "p1 = np.array((1,2,3))\n",
    "p2 = np.array((3,2,1))\n",
    "\n",
    "sq = np.sqrt(np.sum(np.square(p1 - p2)))\n",
    "\n",
    "print(sq)"
   ]
  },
  {
   "cell_type": "code",
   "execution_count": 15,
   "id": "dce2a278-a64a-4ee7-a34a-0e93fc774d75",
   "metadata": {},
   "outputs": [
    {
     "data": {
      "text/plain": [
       "2.8284271247461903"
      ]
     },
     "execution_count": 15,
     "metadata": {},
     "output_type": "execute_result"
    }
   ],
   "source": [
    "import numpy as np # importing the package\n",
    "\n",
    "p1 = np.array((1,2,3))\n",
    "p2 = np.array((3,2,1))\n",
    "\n",
    "distance.euclidean(p1, p2)"
   ]
  },
  {
   "cell_type": "markdown",
   "id": "06bd69cd-1ca5-489b-99ed-193c83559de1",
   "metadata": {},
   "source": [
    "# Manhattan Distance"
   ]
  },
  {
   "cell_type": "code",
   "execution_count": 24,
   "id": "511e281e-40f2-4781-b7d8-a42b47848be2",
   "metadata": {},
   "outputs": [
    {
     "data": {
      "text/plain": [
       "9"
      ]
     },
     "execution_count": 24,
     "metadata": {},
     "output_type": "execute_result"
    }
   ],
   "source": [
    "def manhattan(a, b):\n",
    "    return sum(abs(val1-val2) for val1, val2 in zip(a,b))\n",
    " \n",
    "#define vectors\n",
    "A = [2, 4, 4, 6]\n",
    "B = [5, 5, 7, 8]\n",
    "\n",
    "#calculate Manhattan distance between vectors\n",
    "manhattan(A, B)"
   ]
  },
  {
   "cell_type": "code",
   "execution_count": 21,
   "id": "9672069b-7183-42bf-a6fc-c973a1466568",
   "metadata": {},
   "outputs": [
    {
     "name": "stdout",
     "output_type": "stream",
     "text": [
      "2\n"
     ]
    }
   ],
   "source": [
    "A = (2, 4)\n",
    "B = (1, 3)\n",
    "A = np.array(A)\n",
    "B = np.array(B)\n",
    "print(np.sum(np.abs(A - B)))"
   ]
  },
  {
   "cell_type": "code",
   "execution_count": 22,
   "id": "ed547877-b61a-4c9d-a949-2bdf68a1371f",
   "metadata": {},
   "outputs": [
    {
     "name": "stdout",
     "output_type": "stream",
     "text": [
      "7\n"
     ]
    }
   ],
   "source": [
    "A = (2, 7, 5)\n",
    "B = (4, 8, 9)\n",
    "A = np.array(A)\n",
    "B = np.array(B)\n",
    "print(np.sum(np.abs(A - B)))"
   ]
  },
  {
   "cell_type": "code",
   "execution_count": 23,
   "id": "1a7c6526-0827-4533-9d1c-0051adb23e12",
   "metadata": {},
   "outputs": [
    {
     "name": "stdout",
     "output_type": "stream",
     "text": [
      "4\n"
     ]
    }
   ],
   "source": [
    "import numpy as np\n",
    "p1 = np.array((1,2,3))\n",
    "p2 = np.array((3,2,1))\n",
    "print(np.sum(np.abs(p1 - p2)))"
   ]
  },
  {
   "cell_type": "code",
   "execution_count": 25,
   "id": "826c84d5-c650-405e-a277-037040e7dbdd",
   "metadata": {},
   "outputs": [
    {
     "name": "stdout",
     "output_type": "stream",
     "text": [
      "4\n"
     ]
    }
   ],
   "source": [
    "from scipy.spatial import distance\n",
    "print(distance.cityblock(p1, p2))"
   ]
  },
  {
   "cell_type": "markdown",
   "id": "86bfa33f-2387-45d3-8fe6-f44d8942da48",
   "metadata": {},
   "source": [
    "# Minkowski Distance"
   ]
  },
  {
   "cell_type": "code",
   "execution_count": 29,
   "id": "09dc1f12-9c51-4e57-a349-4e886ca8999b",
   "metadata": {},
   "outputs": [],
   "source": [
    "from scipy.spatial import distance\n",
    "import numpy as np\n",
    "u = np.array((1,2,3))\n",
    "v = np.array((3,2,1))"
   ]
  },
  {
   "cell_type": "code",
   "execution_count": 30,
   "id": "0dda6c7f-efcd-4273-b1ca-152f06f2e402",
   "metadata": {},
   "outputs": [
    {
     "data": {
      "text/plain": [
       "2.5198420997897464"
      ]
     },
     "execution_count": 30,
     "metadata": {},
     "output_type": "execute_result"
    }
   ],
   "source": [
    "distance.minkowski(u, v, p=3)"
   ]
  },
  {
   "cell_type": "code",
   "execution_count": 31,
   "id": "91cff852-0de9-4d7c-bb31-d977053248a4",
   "metadata": {},
   "outputs": [
    {
     "data": {
      "text/plain": [
       "6.153449493663682"
      ]
     },
     "execution_count": 31,
     "metadata": {},
     "output_type": "execute_result"
    }
   ],
   "source": [
    "u = np.array((22, 1, 42, 10))\n",
    "v = np.array((20, 0, 36, 8))\n",
    "distance.minkowski(u, v, p=3)"
   ]
  },
  {
   "cell_type": "markdown",
   "id": "21f94980-fdb5-4cc7-a783-c9827a2845c9",
   "metadata": {},
   "source": [
    "# Jaccard Coefficient"
   ]
  },
  {
   "cell_type": "code",
   "execution_count": 17,
   "id": "06ff16a8-6cfd-4c1e-b436-351ec7328347",
   "metadata": {},
   "outputs": [],
   "source": [
    "from sklearn.metrics import jaccard_score\n",
    "import pandas as pd"
   ]
  },
  {
   "cell_type": "code",
   "execution_count": 29,
   "id": "1ddb73c4-7fb4-43f3-ba92-6e9f4e7467a1",
   "metadata": {},
   "outputs": [],
   "source": [
    "df = pd.read_csv('shopping cart.csv')"
   ]
  },
  {
   "cell_type": "code",
   "execution_count": 32,
   "id": "84092d29-adc1-4b43-ad8b-e58d3e824c8a",
   "metadata": {},
   "outputs": [],
   "source": [
    "df = df.set_index('Cart ID')"
   ]
  },
  {
   "cell_type": "code",
   "execution_count": 35,
   "id": "79a4b505-aad8-4e82-a35f-0ef85ad6ca13",
   "metadata": {},
   "outputs": [
    {
     "data": {
      "text/html": [
       "<div>\n",
       "<style scoped>\n",
       "    .dataframe tbody tr th:only-of-type {\n",
       "        vertical-align: middle;\n",
       "    }\n",
       "\n",
       "    .dataframe tbody tr th {\n",
       "        vertical-align: top;\n",
       "    }\n",
       "\n",
       "    .dataframe thead th {\n",
       "        text-align: right;\n",
       "    }\n",
       "</style>\n",
       "<table border=\"1\" class=\"dataframe\">\n",
       "  <thead>\n",
       "    <tr style=\"text-align: right;\">\n",
       "      <th></th>\n",
       "      <th>Apple</th>\n",
       "      <th>Tomato</th>\n",
       "      <th>Eggs</th>\n",
       "      <th>Milk</th>\n",
       "      <th>Coffee</th>\n",
       "      <th>Sugar</th>\n",
       "    </tr>\n",
       "    <tr>\n",
       "      <th>Cart ID</th>\n",
       "      <th></th>\n",
       "      <th></th>\n",
       "      <th></th>\n",
       "      <th></th>\n",
       "      <th></th>\n",
       "      <th></th>\n",
       "    </tr>\n",
       "  </thead>\n",
       "  <tbody>\n",
       "    <tr>\n",
       "      <th>A</th>\n",
       "      <td>1</td>\n",
       "      <td>0</td>\n",
       "      <td>0</td>\n",
       "      <td>1</td>\n",
       "      <td>1</td>\n",
       "      <td>1</td>\n",
       "    </tr>\n",
       "    <tr>\n",
       "      <th>B</th>\n",
       "      <td>0</td>\n",
       "      <td>0</td>\n",
       "      <td>1</td>\n",
       "      <td>1</td>\n",
       "      <td>1</td>\n",
       "      <td>0</td>\n",
       "    </tr>\n",
       "    <tr>\n",
       "      <th>C</th>\n",
       "      <td>1</td>\n",
       "      <td>0</td>\n",
       "      <td>0</td>\n",
       "      <td>1</td>\n",
       "      <td>0</td>\n",
       "      <td>1</td>\n",
       "    </tr>\n",
       "    <tr>\n",
       "      <th>D</th>\n",
       "      <td>0</td>\n",
       "      <td>1</td>\n",
       "      <td>1</td>\n",
       "      <td>0</td>\n",
       "      <td>1</td>\n",
       "      <td>0</td>\n",
       "    </tr>\n",
       "  </tbody>\n",
       "</table>\n",
       "</div>"
      ],
      "text/plain": [
       "         Apple  Tomato  Eggs  Milk  Coffee  Sugar\n",
       "Cart ID                                          \n",
       "A            1       0     0     1       1      1\n",
       "B            0       0     1     1       1      0\n",
       "C            1       0     0     1       0      1\n",
       "D            0       1     1     0       1      0"
      ]
     },
     "execution_count": 35,
     "metadata": {},
     "output_type": "execute_result"
    }
   ],
   "source": [
    "df"
   ]
  },
  {
   "cell_type": "code",
   "execution_count": 33,
   "id": "3cca748d-344b-4c97-b451-e29aea6e4de9",
   "metadata": {},
   "outputs": [],
   "source": [
    "dft = df.T"
   ]
  },
  {
   "cell_type": "code",
   "execution_count": 34,
   "id": "a7e03e16-db0f-42dc-8107-f7c87192f2cc",
   "metadata": {},
   "outputs": [
    {
     "data": {
      "text/html": [
       "<div>\n",
       "<style scoped>\n",
       "    .dataframe tbody tr th:only-of-type {\n",
       "        vertical-align: middle;\n",
       "    }\n",
       "\n",
       "    .dataframe tbody tr th {\n",
       "        vertical-align: top;\n",
       "    }\n",
       "\n",
       "    .dataframe thead th {\n",
       "        text-align: right;\n",
       "    }\n",
       "</style>\n",
       "<table border=\"1\" class=\"dataframe\">\n",
       "  <thead>\n",
       "    <tr style=\"text-align: right;\">\n",
       "      <th>Cart ID</th>\n",
       "      <th>A</th>\n",
       "      <th>B</th>\n",
       "      <th>C</th>\n",
       "      <th>D</th>\n",
       "    </tr>\n",
       "  </thead>\n",
       "  <tbody>\n",
       "    <tr>\n",
       "      <th>Apple</th>\n",
       "      <td>1</td>\n",
       "      <td>0</td>\n",
       "      <td>1</td>\n",
       "      <td>0</td>\n",
       "    </tr>\n",
       "    <tr>\n",
       "      <th>Tomato</th>\n",
       "      <td>0</td>\n",
       "      <td>0</td>\n",
       "      <td>0</td>\n",
       "      <td>1</td>\n",
       "    </tr>\n",
       "    <tr>\n",
       "      <th>Eggs</th>\n",
       "      <td>0</td>\n",
       "      <td>1</td>\n",
       "      <td>0</td>\n",
       "      <td>1</td>\n",
       "    </tr>\n",
       "    <tr>\n",
       "      <th>Milk</th>\n",
       "      <td>1</td>\n",
       "      <td>1</td>\n",
       "      <td>1</td>\n",
       "      <td>0</td>\n",
       "    </tr>\n",
       "    <tr>\n",
       "      <th>Coffee</th>\n",
       "      <td>1</td>\n",
       "      <td>1</td>\n",
       "      <td>0</td>\n",
       "      <td>1</td>\n",
       "    </tr>\n",
       "    <tr>\n",
       "      <th>Sugar</th>\n",
       "      <td>1</td>\n",
       "      <td>0</td>\n",
       "      <td>1</td>\n",
       "      <td>0</td>\n",
       "    </tr>\n",
       "  </tbody>\n",
       "</table>\n",
       "</div>"
      ],
      "text/plain": [
       "Cart ID  A  B  C  D\n",
       "Apple    1  0  1  0\n",
       "Tomato   0  0  0  1\n",
       "Eggs     0  1  0  1\n",
       "Milk     1  1  1  0\n",
       "Coffee   1  1  0  1\n",
       "Sugar    1  0  1  0"
      ]
     },
     "execution_count": 34,
     "metadata": {},
     "output_type": "execute_result"
    }
   ],
   "source": [
    "dft"
   ]
  },
  {
   "cell_type": "code",
   "execution_count": 58,
   "id": "964dffed-cd69-4f1a-a2a1-4c1054a36963",
   "metadata": {},
   "outputs": [],
   "source": [
    "dft['q'] = (dft['A'] == dft['B']) & (dft['A'] == 1)\n",
    "dft['r'] = (dft['A'] == 1) & (dft['B'] == 0)\n",
    "dft['s'] = (dft['A'] == 0) & (dft['B'] == 1)"
   ]
  },
  {
   "cell_type": "code",
   "execution_count": 59,
   "id": "0fd79f3f-a74f-40ce-9ca9-5b3b3222bc0d",
   "metadata": {},
   "outputs": [
    {
     "data": {
      "text/html": [
       "<div>\n",
       "<style scoped>\n",
       "    .dataframe tbody tr th:only-of-type {\n",
       "        vertical-align: middle;\n",
       "    }\n",
       "\n",
       "    .dataframe tbody tr th {\n",
       "        vertical-align: top;\n",
       "    }\n",
       "\n",
       "    .dataframe thead th {\n",
       "        text-align: right;\n",
       "    }\n",
       "</style>\n",
       "<table border=\"1\" class=\"dataframe\">\n",
       "  <thead>\n",
       "    <tr style=\"text-align: right;\">\n",
       "      <th>Cart ID</th>\n",
       "      <th>A</th>\n",
       "      <th>B</th>\n",
       "      <th>C</th>\n",
       "      <th>D</th>\n",
       "      <th>q</th>\n",
       "      <th>r</th>\n",
       "      <th>s</th>\n",
       "    </tr>\n",
       "  </thead>\n",
       "  <tbody>\n",
       "    <tr>\n",
       "      <th>Apple</th>\n",
       "      <td>1</td>\n",
       "      <td>0</td>\n",
       "      <td>1</td>\n",
       "      <td>0</td>\n",
       "      <td>False</td>\n",
       "      <td>True</td>\n",
       "      <td>False</td>\n",
       "    </tr>\n",
       "    <tr>\n",
       "      <th>Tomato</th>\n",
       "      <td>0</td>\n",
       "      <td>0</td>\n",
       "      <td>0</td>\n",
       "      <td>1</td>\n",
       "      <td>False</td>\n",
       "      <td>False</td>\n",
       "      <td>False</td>\n",
       "    </tr>\n",
       "    <tr>\n",
       "      <th>Eggs</th>\n",
       "      <td>0</td>\n",
       "      <td>1</td>\n",
       "      <td>0</td>\n",
       "      <td>1</td>\n",
       "      <td>False</td>\n",
       "      <td>False</td>\n",
       "      <td>True</td>\n",
       "    </tr>\n",
       "    <tr>\n",
       "      <th>Milk</th>\n",
       "      <td>1</td>\n",
       "      <td>1</td>\n",
       "      <td>1</td>\n",
       "      <td>0</td>\n",
       "      <td>True</td>\n",
       "      <td>False</td>\n",
       "      <td>False</td>\n",
       "    </tr>\n",
       "    <tr>\n",
       "      <th>Coffee</th>\n",
       "      <td>1</td>\n",
       "      <td>1</td>\n",
       "      <td>0</td>\n",
       "      <td>1</td>\n",
       "      <td>True</td>\n",
       "      <td>False</td>\n",
       "      <td>False</td>\n",
       "    </tr>\n",
       "    <tr>\n",
       "      <th>Sugar</th>\n",
       "      <td>1</td>\n",
       "      <td>0</td>\n",
       "      <td>1</td>\n",
       "      <td>0</td>\n",
       "      <td>False</td>\n",
       "      <td>True</td>\n",
       "      <td>False</td>\n",
       "    </tr>\n",
       "  </tbody>\n",
       "</table>\n",
       "</div>"
      ],
      "text/plain": [
       "Cart ID  A  B  C  D      q      r      s\n",
       "Apple    1  0  1  0  False   True  False\n",
       "Tomato   0  0  0  1  False  False  False\n",
       "Eggs     0  1  0  1  False  False   True\n",
       "Milk     1  1  1  0   True  False  False\n",
       "Coffee   1  1  0  1   True  False  False\n",
       "Sugar    1  0  1  0  False   True  False"
      ]
     },
     "execution_count": 59,
     "metadata": {},
     "output_type": "execute_result"
    }
   ],
   "source": [
    "dft"
   ]
  },
  {
   "cell_type": "code",
   "execution_count": 60,
   "id": "6af7f803-0b13-422b-a1e9-473fc05a75c3",
   "metadata": {},
   "outputs": [],
   "source": [
    "q = dft['q'].value_counts().loc[True]\n",
    "r = dft['r'].value_counts().loc[True]\n",
    "s = dft['s'].value_counts().loc[True]"
   ]
  },
  {
   "cell_type": "code",
   "execution_count": 61,
   "id": "559374bb-e9bd-4386-b34f-c0702d421082",
   "metadata": {},
   "outputs": [
    {
     "data": {
      "text/plain": [
       "(2, 2, 1)"
      ]
     },
     "execution_count": 61,
     "metadata": {},
     "output_type": "execute_result"
    }
   ],
   "source": [
    "q, r, s"
   ]
  },
  {
   "cell_type": "code",
   "execution_count": 63,
   "id": "69462480-c41c-4cbb-9286-94a39e902f29",
   "metadata": {},
   "outputs": [
    {
     "name": "stdout",
     "output_type": "stream",
     "text": [
      "Jaccard coefficient or similarity is: 0.4\n"
     ]
    }
   ],
   "source": [
    "print(\"Jaccard coefficient or similarity is:\", (q / (q+r+s)))"
   ]
  },
  {
   "cell_type": "code",
   "execution_count": 78,
   "id": "0253f820-7c38-4a62-a6c1-d6e7d93b8404",
   "metadata": {},
   "outputs": [
    {
     "data": {
      "text/plain": [
       "array([0, 0, 1, 1, 1, 0], dtype=object)"
      ]
     },
     "execution_count": 78,
     "metadata": {},
     "output_type": "execute_result"
    }
   ],
   "source": [
    "np.array(B.values)"
   ]
  },
  {
   "cell_type": "markdown",
   "id": "e3f10ed2-f27e-427d-b918-aa5d5f7771a8",
   "metadata": {},
   "source": [
    "# Jaccard Distance"
   ]
  },
  {
   "cell_type": "code",
   "execution_count": 71,
   "id": "d1a8a48a-3cad-42dc-9320-19a9d8853a9c",
   "metadata": {},
   "outputs": [],
   "source": [
    "from scipy.spatial import distance\n",
    "import pandas as pd"
   ]
  },
  {
   "cell_type": "code",
   "execution_count": 72,
   "id": "b5faf72b-78a6-4b89-b187-3d0fd3fe5b53",
   "metadata": {},
   "outputs": [],
   "source": [
    "df = pd.read_csv('shopping cart.csv')"
   ]
  },
  {
   "cell_type": "code",
   "execution_count": 73,
   "id": "4e50618d-bbe2-41ea-be00-4c110a0023c6",
   "metadata": {},
   "outputs": [
    {
     "data": {
      "text/html": [
       "<div>\n",
       "<style scoped>\n",
       "    .dataframe tbody tr th:only-of-type {\n",
       "        vertical-align: middle;\n",
       "    }\n",
       "\n",
       "    .dataframe tbody tr th {\n",
       "        vertical-align: top;\n",
       "    }\n",
       "\n",
       "    .dataframe thead th {\n",
       "        text-align: right;\n",
       "    }\n",
       "</style>\n",
       "<table border=\"1\" class=\"dataframe\">\n",
       "  <thead>\n",
       "    <tr style=\"text-align: right;\">\n",
       "      <th></th>\n",
       "      <th>Cart ID</th>\n",
       "      <th>Apple</th>\n",
       "      <th>Tomato</th>\n",
       "      <th>Eggs</th>\n",
       "      <th>Milk</th>\n",
       "      <th>Coffee</th>\n",
       "      <th>Sugar</th>\n",
       "    </tr>\n",
       "  </thead>\n",
       "  <tbody>\n",
       "    <tr>\n",
       "      <th>0</th>\n",
       "      <td>A</td>\n",
       "      <td>1</td>\n",
       "      <td>0</td>\n",
       "      <td>0</td>\n",
       "      <td>1</td>\n",
       "      <td>1</td>\n",
       "      <td>1</td>\n",
       "    </tr>\n",
       "    <tr>\n",
       "      <th>1</th>\n",
       "      <td>B</td>\n",
       "      <td>0</td>\n",
       "      <td>0</td>\n",
       "      <td>1</td>\n",
       "      <td>1</td>\n",
       "      <td>1</td>\n",
       "      <td>0</td>\n",
       "    </tr>\n",
       "    <tr>\n",
       "      <th>2</th>\n",
       "      <td>C</td>\n",
       "      <td>1</td>\n",
       "      <td>0</td>\n",
       "      <td>0</td>\n",
       "      <td>1</td>\n",
       "      <td>0</td>\n",
       "      <td>1</td>\n",
       "    </tr>\n",
       "    <tr>\n",
       "      <th>3</th>\n",
       "      <td>D</td>\n",
       "      <td>0</td>\n",
       "      <td>1</td>\n",
       "      <td>1</td>\n",
       "      <td>0</td>\n",
       "      <td>1</td>\n",
       "      <td>0</td>\n",
       "    </tr>\n",
       "  </tbody>\n",
       "</table>\n",
       "</div>"
      ],
      "text/plain": [
       "  Cart ID  Apple  Tomato  Eggs  Milk  Coffee  Sugar\n",
       "0       A      1       0     0     1       1      1\n",
       "1       B      0       0     1     1       1      0\n",
       "2       C      1       0     0     1       0      1\n",
       "3       D      0       1     1     0       1      0"
      ]
     },
     "execution_count": 73,
     "metadata": {},
     "output_type": "execute_result"
    }
   ],
   "source": [
    "df"
   ]
  },
  {
   "cell_type": "code",
   "execution_count": 74,
   "id": "d822bf0e-ce43-4427-811e-7d1bb9603a29",
   "metadata": {},
   "outputs": [
    {
     "data": {
      "text/plain": [
       "Apple     1\n",
       "Tomato    0\n",
       "Eggs      0\n",
       "Milk      1\n",
       "Coffee    1\n",
       "Sugar     1\n",
       "Name: 0, dtype: object"
      ]
     },
     "execution_count": 74,
     "metadata": {},
     "output_type": "execute_result"
    }
   ],
   "source": [
    "A = df.loc[0, df.columns != 'Cart ID']\n",
    "A"
   ]
  },
  {
   "cell_type": "code",
   "execution_count": 75,
   "id": "3e965381-53a7-444c-ad70-d859033b785c",
   "metadata": {},
   "outputs": [
    {
     "data": {
      "text/plain": [
       "Apple     0\n",
       "Tomato    0\n",
       "Eggs      1\n",
       "Milk      1\n",
       "Coffee    1\n",
       "Sugar     0\n",
       "Name: 1, dtype: object"
      ]
     },
     "execution_count": 75,
     "metadata": {},
     "output_type": "execute_result"
    }
   ],
   "source": [
    "B = df.loc[1, df.columns != 'Cart ID']\n",
    "B"
   ]
  },
  {
   "cell_type": "code",
   "execution_count": 76,
   "id": "4c1af59d-5605-4092-b989-511dfe3ed04a",
   "metadata": {},
   "outputs": [
    {
     "data": {
      "text/plain": [
       "0.6"
      ]
     },
     "execution_count": 76,
     "metadata": {},
     "output_type": "execute_result"
    }
   ],
   "source": [
    "distance.jaccard(A, B)"
   ]
  },
  {
   "cell_type": "code",
   "execution_count": 78,
   "id": "2f00aaaf-7580-4576-98f7-98bbc6ab6839",
   "metadata": {},
   "outputs": [
    {
     "name": "stdout",
     "output_type": "stream",
     "text": [
      "1.0\n",
      "0.0\n"
     ]
    }
   ],
   "source": [
    "C = df.loc[2, df.columns != 'Cart ID']\n",
    "D = df.loc[3, df.columns != 'Cart ID']\n",
    "dist = distance.jaccard(C, D) \n",
    "print(dist)\n",
    "print(1 - dist)"
   ]
  },
  {
   "cell_type": "markdown",
   "id": "e96d595b-ecdc-447b-b4bc-d4238aff7e99",
   "metadata": {},
   "source": [
    "# jaccard similarity = 1 - jaccard dissimilarity \n",
    "### jaccard similarity (aka score or oefficient) \n",
    "### jaccard dissimilarity (aka distance)"
   ]
  },
  {
   "cell_type": "code",
   "execution_count": null,
   "id": "0afb35c3-1fb7-4c7c-a2e3-2e9e4f94143e",
   "metadata": {},
   "outputs": [],
   "source": []
  },
  {
   "cell_type": "code",
   "execution_count": null,
   "id": "ccef420b-6f1c-4564-9745-52f5af42dd7a",
   "metadata": {},
   "outputs": [],
   "source": []
  }
 ],
 "metadata": {
  "kernelspec": {
   "display_name": "Python 3 (ipykernel)",
   "language": "python",
   "name": "python3"
  },
  "language_info": {
   "codemirror_mode": {
    "name": "ipython",
    "version": 3
   },
   "file_extension": ".py",
   "mimetype": "text/x-python",
   "name": "python",
   "nbconvert_exporter": "python",
   "pygments_lexer": "ipython3",
   "version": "3.9.13"
  }
 },
 "nbformat": 4,
 "nbformat_minor": 5
}
