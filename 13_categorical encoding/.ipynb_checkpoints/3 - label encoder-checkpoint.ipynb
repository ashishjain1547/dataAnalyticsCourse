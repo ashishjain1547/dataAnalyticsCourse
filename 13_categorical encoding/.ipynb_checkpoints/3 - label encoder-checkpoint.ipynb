{
 "cells": [
  {
   "cell_type": "code",
   "execution_count": 1,
   "id": "935291fd-85b6-487e-94a9-ff1fa15d71a0",
   "metadata": {},
   "outputs": [],
   "source": [
    "from sklearn import preprocessing\n",
    "le = preprocessing.LabelEncoder()\n"
   ]
  },
  {
   "cell_type": "code",
   "execution_count": 2,
   "id": "4c9076db-0535-4f92-a3e2-aca19b0a5e7e",
   "metadata": {},
   "outputs": [
    {
     "data": {
      "text/plain": [
       "LabelEncoder()"
      ]
     },
     "execution_count": 2,
     "metadata": {},
     "output_type": "execute_result"
    }
   ],
   "source": [
    "le.fit([\"paris\", \"paris\", \"tokyo\", \"amsterdam\"])"
   ]
  },
  {
   "cell_type": "code",
   "execution_count": 3,
   "id": "72961cf0-c317-4fb0-a136-225dd4e56efb",
   "metadata": {},
   "outputs": [
    {
     "data": {
      "text/plain": [
       "['amsterdam', 'paris', 'tokyo']"
      ]
     },
     "execution_count": 3,
     "metadata": {},
     "output_type": "execute_result"
    }
   ],
   "source": [
    "list(le.classes_)"
   ]
  },
  {
   "cell_type": "code",
   "execution_count": 4,
   "id": "6f412fb3-c5c0-4d10-875a-d824c1373cf6",
   "metadata": {},
   "outputs": [
    {
     "data": {
      "text/plain": [
       "array([2, 2, 1])"
      ]
     },
     "execution_count": 4,
     "metadata": {},
     "output_type": "execute_result"
    }
   ],
   "source": [
    "le.transform([\"tokyo\", \"tokyo\", \"paris\"])"
   ]
  },
  {
   "cell_type": "code",
   "execution_count": null,
   "id": "fbc0ac76-0baa-40f5-bf1e-e7d6a8c5ad3f",
   "metadata": {},
   "outputs": [],
   "source": []
  }
 ],
 "metadata": {
  "kernelspec": {
   "display_name": "Python 3 (ipykernel)",
   "language": "python",
   "name": "python3"
  },
  "language_info": {
   "codemirror_mode": {
    "name": "ipython",
    "version": 3
   },
   "file_extension": ".py",
   "mimetype": "text/x-python",
   "name": "python",
   "nbconvert_exporter": "python",
   "pygments_lexer": "ipython3",
   "version": "3.9.13"
  }
 },
 "nbformat": 4,
 "nbformat_minor": 5
}
