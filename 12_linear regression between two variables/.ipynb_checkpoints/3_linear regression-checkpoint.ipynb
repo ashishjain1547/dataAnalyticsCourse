{
 "cells": [
  {
   "cell_type": "code",
   "execution_count": 29,
   "id": "6ec6cf36-4740-480b-ac92-f9090f3ffd62",
   "metadata": {},
   "outputs": [],
   "source": [
    "import pandas as pd"
   ]
  },
  {
   "cell_type": "code",
   "execution_count": 30,
   "id": "73341c9b-1f37-4b96-b976-c43aef530583",
   "metadata": {},
   "outputs": [],
   "source": [
    "df = pd.read_csv('data/years_of_exp_and_salary.csv')"
   ]
  },
  {
   "cell_type": "code",
   "execution_count": 31,
   "id": "edea8e16-8a4d-416a-b5f3-a5f2fb1238aa",
   "metadata": {},
   "outputs": [
    {
     "data": {
      "text/html": [
       "<div>\n",
       "<style scoped>\n",
       "    .dataframe tbody tr th:only-of-type {\n",
       "        vertical-align: middle;\n",
       "    }\n",
       "\n",
       "    .dataframe tbody tr th {\n",
       "        vertical-align: top;\n",
       "    }\n",
       "\n",
       "    .dataframe thead th {\n",
       "        text-align: right;\n",
       "    }\n",
       "</style>\n",
       "<table border=\"1\" class=\"dataframe\">\n",
       "  <thead>\n",
       "    <tr style=\"text-align: right;\">\n",
       "      <th></th>\n",
       "      <th>x_years_of_experience</th>\n",
       "      <th>y_salary_in_1000USD</th>\n",
       "    </tr>\n",
       "  </thead>\n",
       "  <tbody>\n",
       "    <tr>\n",
       "      <th>0</th>\n",
       "      <td>3</td>\n",
       "      <td>30</td>\n",
       "    </tr>\n",
       "    <tr>\n",
       "      <th>1</th>\n",
       "      <td>8</td>\n",
       "      <td>57</td>\n",
       "    </tr>\n",
       "    <tr>\n",
       "      <th>2</th>\n",
       "      <td>9</td>\n",
       "      <td>64</td>\n",
       "    </tr>\n",
       "    <tr>\n",
       "      <th>3</th>\n",
       "      <td>13</td>\n",
       "      <td>72</td>\n",
       "    </tr>\n",
       "    <tr>\n",
       "      <th>4</th>\n",
       "      <td>3</td>\n",
       "      <td>36</td>\n",
       "    </tr>\n",
       "    <tr>\n",
       "      <th>5</th>\n",
       "      <td>6</td>\n",
       "      <td>43</td>\n",
       "    </tr>\n",
       "    <tr>\n",
       "      <th>6</th>\n",
       "      <td>11</td>\n",
       "      <td>59</td>\n",
       "    </tr>\n",
       "    <tr>\n",
       "      <th>7</th>\n",
       "      <td>21</td>\n",
       "      <td>90</td>\n",
       "    </tr>\n",
       "    <tr>\n",
       "      <th>8</th>\n",
       "      <td>1</td>\n",
       "      <td>20</td>\n",
       "    </tr>\n",
       "    <tr>\n",
       "      <th>9</th>\n",
       "      <td>16</td>\n",
       "      <td>83</td>\n",
       "    </tr>\n",
       "  </tbody>\n",
       "</table>\n",
       "</div>"
      ],
      "text/plain": [
       "   x_years_of_experience  y_salary_in_1000USD\n",
       "0                      3                   30\n",
       "1                      8                   57\n",
       "2                      9                   64\n",
       "3                     13                   72\n",
       "4                      3                   36\n",
       "5                      6                   43\n",
       "6                     11                   59\n",
       "7                     21                   90\n",
       "8                      1                   20\n",
       "9                     16                   83"
      ]
     },
     "execution_count": 31,
     "metadata": {},
     "output_type": "execute_result"
    }
   ],
   "source": [
    "df"
   ]
  },
  {
   "cell_type": "code",
   "execution_count": 32,
   "id": "9ad00368-689f-4184-99a6-a567a2dd61ce",
   "metadata": {},
   "outputs": [],
   "source": [
    "df.columns = ['x', 'y']"
   ]
  },
  {
   "cell_type": "code",
   "execution_count": 33,
   "id": "686a77af-efbb-4ee3-8994-1d5df8c1df98",
   "metadata": {},
   "outputs": [],
   "source": [
    "x_mean = df['x'].mean()\n",
    "y_mean = df['y'].mean()"
   ]
  },
  {
   "cell_type": "code",
   "execution_count": 34,
   "id": "a9302b25-02a3-4b72-8d2e-b64e9a41a2b4",
   "metadata": {},
   "outputs": [],
   "source": [
    "df['x minus x_mean'] = df['x'].apply(lambda x: x - x_mean)"
   ]
  },
  {
   "cell_type": "code",
   "execution_count": 35,
   "id": "3af90407-d163-45f1-8313-c5031204d027",
   "metadata": {},
   "outputs": [
    {
     "data": {
      "text/html": [
       "<div>\n",
       "<style scoped>\n",
       "    .dataframe tbody tr th:only-of-type {\n",
       "        vertical-align: middle;\n",
       "    }\n",
       "\n",
       "    .dataframe tbody tr th {\n",
       "        vertical-align: top;\n",
       "    }\n",
       "\n",
       "    .dataframe thead th {\n",
       "        text-align: right;\n",
       "    }\n",
       "</style>\n",
       "<table border=\"1\" class=\"dataframe\">\n",
       "  <thead>\n",
       "    <tr style=\"text-align: right;\">\n",
       "      <th></th>\n",
       "      <th>x</th>\n",
       "      <th>y</th>\n",
       "      <th>x minus x_mean</th>\n",
       "    </tr>\n",
       "  </thead>\n",
       "  <tbody>\n",
       "    <tr>\n",
       "      <th>0</th>\n",
       "      <td>3</td>\n",
       "      <td>30</td>\n",
       "      <td>-6.1</td>\n",
       "    </tr>\n",
       "    <tr>\n",
       "      <th>1</th>\n",
       "      <td>8</td>\n",
       "      <td>57</td>\n",
       "      <td>-1.1</td>\n",
       "    </tr>\n",
       "    <tr>\n",
       "      <th>2</th>\n",
       "      <td>9</td>\n",
       "      <td>64</td>\n",
       "      <td>-0.1</td>\n",
       "    </tr>\n",
       "    <tr>\n",
       "      <th>3</th>\n",
       "      <td>13</td>\n",
       "      <td>72</td>\n",
       "      <td>3.9</td>\n",
       "    </tr>\n",
       "    <tr>\n",
       "      <th>4</th>\n",
       "      <td>3</td>\n",
       "      <td>36</td>\n",
       "      <td>-6.1</td>\n",
       "    </tr>\n",
       "    <tr>\n",
       "      <th>5</th>\n",
       "      <td>6</td>\n",
       "      <td>43</td>\n",
       "      <td>-3.1</td>\n",
       "    </tr>\n",
       "    <tr>\n",
       "      <th>6</th>\n",
       "      <td>11</td>\n",
       "      <td>59</td>\n",
       "      <td>1.9</td>\n",
       "    </tr>\n",
       "    <tr>\n",
       "      <th>7</th>\n",
       "      <td>21</td>\n",
       "      <td>90</td>\n",
       "      <td>11.9</td>\n",
       "    </tr>\n",
       "    <tr>\n",
       "      <th>8</th>\n",
       "      <td>1</td>\n",
       "      <td>20</td>\n",
       "      <td>-8.1</td>\n",
       "    </tr>\n",
       "    <tr>\n",
       "      <th>9</th>\n",
       "      <td>16</td>\n",
       "      <td>83</td>\n",
       "      <td>6.9</td>\n",
       "    </tr>\n",
       "  </tbody>\n",
       "</table>\n",
       "</div>"
      ],
      "text/plain": [
       "    x   y  x minus x_mean\n",
       "0   3  30            -6.1\n",
       "1   8  57            -1.1\n",
       "2   9  64            -0.1\n",
       "3  13  72             3.9\n",
       "4   3  36            -6.1\n",
       "5   6  43            -3.1\n",
       "6  11  59             1.9\n",
       "7  21  90            11.9\n",
       "8   1  20            -8.1\n",
       "9  16  83             6.9"
      ]
     },
     "execution_count": 35,
     "metadata": {},
     "output_type": "execute_result"
    }
   ],
   "source": [
    "df"
   ]
  },
  {
   "cell_type": "code",
   "execution_count": 36,
   "id": "8b6e4d77-63e4-4e9f-b391-4476c5a83491",
   "metadata": {},
   "outputs": [],
   "source": [
    "df['y minus y_mean'] = df['y'].apply(lambda y: y - y_mean)"
   ]
  },
  {
   "cell_type": "code",
   "execution_count": 37,
   "id": "c009db8e-210b-4488-a658-334934ec03b1",
   "metadata": {},
   "outputs": [
    {
     "data": {
      "text/html": [
       "<div>\n",
       "<style scoped>\n",
       "    .dataframe tbody tr th:only-of-type {\n",
       "        vertical-align: middle;\n",
       "    }\n",
       "\n",
       "    .dataframe tbody tr th {\n",
       "        vertical-align: top;\n",
       "    }\n",
       "\n",
       "    .dataframe thead th {\n",
       "        text-align: right;\n",
       "    }\n",
       "</style>\n",
       "<table border=\"1\" class=\"dataframe\">\n",
       "  <thead>\n",
       "    <tr style=\"text-align: right;\">\n",
       "      <th></th>\n",
       "      <th>x</th>\n",
       "      <th>y</th>\n",
       "      <th>x minus x_mean</th>\n",
       "      <th>y minus y_mean</th>\n",
       "    </tr>\n",
       "  </thead>\n",
       "  <tbody>\n",
       "    <tr>\n",
       "      <th>0</th>\n",
       "      <td>3</td>\n",
       "      <td>30</td>\n",
       "      <td>-6.1</td>\n",
       "      <td>-25.4</td>\n",
       "    </tr>\n",
       "    <tr>\n",
       "      <th>1</th>\n",
       "      <td>8</td>\n",
       "      <td>57</td>\n",
       "      <td>-1.1</td>\n",
       "      <td>1.6</td>\n",
       "    </tr>\n",
       "    <tr>\n",
       "      <th>2</th>\n",
       "      <td>9</td>\n",
       "      <td>64</td>\n",
       "      <td>-0.1</td>\n",
       "      <td>8.6</td>\n",
       "    </tr>\n",
       "    <tr>\n",
       "      <th>3</th>\n",
       "      <td>13</td>\n",
       "      <td>72</td>\n",
       "      <td>3.9</td>\n",
       "      <td>16.6</td>\n",
       "    </tr>\n",
       "    <tr>\n",
       "      <th>4</th>\n",
       "      <td>3</td>\n",
       "      <td>36</td>\n",
       "      <td>-6.1</td>\n",
       "      <td>-19.4</td>\n",
       "    </tr>\n",
       "    <tr>\n",
       "      <th>5</th>\n",
       "      <td>6</td>\n",
       "      <td>43</td>\n",
       "      <td>-3.1</td>\n",
       "      <td>-12.4</td>\n",
       "    </tr>\n",
       "    <tr>\n",
       "      <th>6</th>\n",
       "      <td>11</td>\n",
       "      <td>59</td>\n",
       "      <td>1.9</td>\n",
       "      <td>3.6</td>\n",
       "    </tr>\n",
       "    <tr>\n",
       "      <th>7</th>\n",
       "      <td>21</td>\n",
       "      <td>90</td>\n",
       "      <td>11.9</td>\n",
       "      <td>34.6</td>\n",
       "    </tr>\n",
       "    <tr>\n",
       "      <th>8</th>\n",
       "      <td>1</td>\n",
       "      <td>20</td>\n",
       "      <td>-8.1</td>\n",
       "      <td>-35.4</td>\n",
       "    </tr>\n",
       "    <tr>\n",
       "      <th>9</th>\n",
       "      <td>16</td>\n",
       "      <td>83</td>\n",
       "      <td>6.9</td>\n",
       "      <td>27.6</td>\n",
       "    </tr>\n",
       "  </tbody>\n",
       "</table>\n",
       "</div>"
      ],
      "text/plain": [
       "    x   y  x minus x_mean  y minus y_mean\n",
       "0   3  30            -6.1           -25.4\n",
       "1   8  57            -1.1             1.6\n",
       "2   9  64            -0.1             8.6\n",
       "3  13  72             3.9            16.6\n",
       "4   3  36            -6.1           -19.4\n",
       "5   6  43            -3.1           -12.4\n",
       "6  11  59             1.9             3.6\n",
       "7  21  90            11.9            34.6\n",
       "8   1  20            -8.1           -35.4\n",
       "9  16  83             6.9            27.6"
      ]
     },
     "execution_count": 37,
     "metadata": {},
     "output_type": "execute_result"
    }
   ],
   "source": [
    "df"
   ]
  },
  {
   "cell_type": "code",
   "execution_count": 38,
   "id": "d31073a1-abc8-4bea-b714-6cd38722ae26",
   "metadata": {},
   "outputs": [],
   "source": [
    "df['product_of_diff_from_mean'] = df.apply(lambda row: row['x minus x_mean'] * row['y minus y_mean'], axis = 1)"
   ]
  },
  {
   "cell_type": "code",
   "execution_count": 39,
   "id": "907d5850-68db-4795-9216-f5d03888e4f0",
   "metadata": {},
   "outputs": [
    {
     "data": {
      "text/html": [
       "<div>\n",
       "<style scoped>\n",
       "    .dataframe tbody tr th:only-of-type {\n",
       "        vertical-align: middle;\n",
       "    }\n",
       "\n",
       "    .dataframe tbody tr th {\n",
       "        vertical-align: top;\n",
       "    }\n",
       "\n",
       "    .dataframe thead th {\n",
       "        text-align: right;\n",
       "    }\n",
       "</style>\n",
       "<table border=\"1\" class=\"dataframe\">\n",
       "  <thead>\n",
       "    <tr style=\"text-align: right;\">\n",
       "      <th></th>\n",
       "      <th>x</th>\n",
       "      <th>y</th>\n",
       "      <th>x minus x_mean</th>\n",
       "      <th>y minus y_mean</th>\n",
       "      <th>product_of_diff_from_mean</th>\n",
       "    </tr>\n",
       "  </thead>\n",
       "  <tbody>\n",
       "    <tr>\n",
       "      <th>0</th>\n",
       "      <td>3</td>\n",
       "      <td>30</td>\n",
       "      <td>-6.1</td>\n",
       "      <td>-25.4</td>\n",
       "      <td>154.94</td>\n",
       "    </tr>\n",
       "    <tr>\n",
       "      <th>1</th>\n",
       "      <td>8</td>\n",
       "      <td>57</td>\n",
       "      <td>-1.1</td>\n",
       "      <td>1.6</td>\n",
       "      <td>-1.76</td>\n",
       "    </tr>\n",
       "    <tr>\n",
       "      <th>2</th>\n",
       "      <td>9</td>\n",
       "      <td>64</td>\n",
       "      <td>-0.1</td>\n",
       "      <td>8.6</td>\n",
       "      <td>-0.86</td>\n",
       "    </tr>\n",
       "    <tr>\n",
       "      <th>3</th>\n",
       "      <td>13</td>\n",
       "      <td>72</td>\n",
       "      <td>3.9</td>\n",
       "      <td>16.6</td>\n",
       "      <td>64.74</td>\n",
       "    </tr>\n",
       "    <tr>\n",
       "      <th>4</th>\n",
       "      <td>3</td>\n",
       "      <td>36</td>\n",
       "      <td>-6.1</td>\n",
       "      <td>-19.4</td>\n",
       "      <td>118.34</td>\n",
       "    </tr>\n",
       "    <tr>\n",
       "      <th>5</th>\n",
       "      <td>6</td>\n",
       "      <td>43</td>\n",
       "      <td>-3.1</td>\n",
       "      <td>-12.4</td>\n",
       "      <td>38.44</td>\n",
       "    </tr>\n",
       "    <tr>\n",
       "      <th>6</th>\n",
       "      <td>11</td>\n",
       "      <td>59</td>\n",
       "      <td>1.9</td>\n",
       "      <td>3.6</td>\n",
       "      <td>6.84</td>\n",
       "    </tr>\n",
       "    <tr>\n",
       "      <th>7</th>\n",
       "      <td>21</td>\n",
       "      <td>90</td>\n",
       "      <td>11.9</td>\n",
       "      <td>34.6</td>\n",
       "      <td>411.74</td>\n",
       "    </tr>\n",
       "    <tr>\n",
       "      <th>8</th>\n",
       "      <td>1</td>\n",
       "      <td>20</td>\n",
       "      <td>-8.1</td>\n",
       "      <td>-35.4</td>\n",
       "      <td>286.74</td>\n",
       "    </tr>\n",
       "    <tr>\n",
       "      <th>9</th>\n",
       "      <td>16</td>\n",
       "      <td>83</td>\n",
       "      <td>6.9</td>\n",
       "      <td>27.6</td>\n",
       "      <td>190.44</td>\n",
       "    </tr>\n",
       "  </tbody>\n",
       "</table>\n",
       "</div>"
      ],
      "text/plain": [
       "    x   y  x minus x_mean  y minus y_mean  product_of_diff_from_mean\n",
       "0   3  30            -6.1           -25.4                     154.94\n",
       "1   8  57            -1.1             1.6                      -1.76\n",
       "2   9  64            -0.1             8.6                      -0.86\n",
       "3  13  72             3.9            16.6                      64.74\n",
       "4   3  36            -6.1           -19.4                     118.34\n",
       "5   6  43            -3.1           -12.4                      38.44\n",
       "6  11  59             1.9             3.6                       6.84\n",
       "7  21  90            11.9            34.6                     411.74\n",
       "8   1  20            -8.1           -35.4                     286.74\n",
       "9  16  83             6.9            27.6                     190.44"
      ]
     },
     "execution_count": 39,
     "metadata": {},
     "output_type": "execute_result"
    }
   ],
   "source": [
    "df"
   ]
  },
  {
   "cell_type": "code",
   "execution_count": 40,
   "id": "4854adfd-ece6-4128-8f21-26c4f943b7d1",
   "metadata": {},
   "outputs": [],
   "source": [
    "df['sq of x minus x_mean'] = df['x minus x_mean'].apply(lambda x: x**2)"
   ]
  },
  {
   "cell_type": "code",
   "execution_count": 41,
   "id": "9156e201-49d9-45dc-b0ce-851f88702ea5",
   "metadata": {},
   "outputs": [
    {
     "data": {
      "text/html": [
       "<div>\n",
       "<style scoped>\n",
       "    .dataframe tbody tr th:only-of-type {\n",
       "        vertical-align: middle;\n",
       "    }\n",
       "\n",
       "    .dataframe tbody tr th {\n",
       "        vertical-align: top;\n",
       "    }\n",
       "\n",
       "    .dataframe thead th {\n",
       "        text-align: right;\n",
       "    }\n",
       "</style>\n",
       "<table border=\"1\" class=\"dataframe\">\n",
       "  <thead>\n",
       "    <tr style=\"text-align: right;\">\n",
       "      <th></th>\n",
       "      <th>x</th>\n",
       "      <th>y</th>\n",
       "      <th>x minus x_mean</th>\n",
       "      <th>y minus y_mean</th>\n",
       "      <th>product_of_diff_from_mean</th>\n",
       "      <th>sq of x minus x_mean</th>\n",
       "    </tr>\n",
       "  </thead>\n",
       "  <tbody>\n",
       "    <tr>\n",
       "      <th>0</th>\n",
       "      <td>3</td>\n",
       "      <td>30</td>\n",
       "      <td>-6.1</td>\n",
       "      <td>-25.4</td>\n",
       "      <td>154.94</td>\n",
       "      <td>37.21</td>\n",
       "    </tr>\n",
       "    <tr>\n",
       "      <th>1</th>\n",
       "      <td>8</td>\n",
       "      <td>57</td>\n",
       "      <td>-1.1</td>\n",
       "      <td>1.6</td>\n",
       "      <td>-1.76</td>\n",
       "      <td>1.21</td>\n",
       "    </tr>\n",
       "    <tr>\n",
       "      <th>2</th>\n",
       "      <td>9</td>\n",
       "      <td>64</td>\n",
       "      <td>-0.1</td>\n",
       "      <td>8.6</td>\n",
       "      <td>-0.86</td>\n",
       "      <td>0.01</td>\n",
       "    </tr>\n",
       "    <tr>\n",
       "      <th>3</th>\n",
       "      <td>13</td>\n",
       "      <td>72</td>\n",
       "      <td>3.9</td>\n",
       "      <td>16.6</td>\n",
       "      <td>64.74</td>\n",
       "      <td>15.21</td>\n",
       "    </tr>\n",
       "    <tr>\n",
       "      <th>4</th>\n",
       "      <td>3</td>\n",
       "      <td>36</td>\n",
       "      <td>-6.1</td>\n",
       "      <td>-19.4</td>\n",
       "      <td>118.34</td>\n",
       "      <td>37.21</td>\n",
       "    </tr>\n",
       "    <tr>\n",
       "      <th>5</th>\n",
       "      <td>6</td>\n",
       "      <td>43</td>\n",
       "      <td>-3.1</td>\n",
       "      <td>-12.4</td>\n",
       "      <td>38.44</td>\n",
       "      <td>9.61</td>\n",
       "    </tr>\n",
       "    <tr>\n",
       "      <th>6</th>\n",
       "      <td>11</td>\n",
       "      <td>59</td>\n",
       "      <td>1.9</td>\n",
       "      <td>3.6</td>\n",
       "      <td>6.84</td>\n",
       "      <td>3.61</td>\n",
       "    </tr>\n",
       "    <tr>\n",
       "      <th>7</th>\n",
       "      <td>21</td>\n",
       "      <td>90</td>\n",
       "      <td>11.9</td>\n",
       "      <td>34.6</td>\n",
       "      <td>411.74</td>\n",
       "      <td>141.61</td>\n",
       "    </tr>\n",
       "    <tr>\n",
       "      <th>8</th>\n",
       "      <td>1</td>\n",
       "      <td>20</td>\n",
       "      <td>-8.1</td>\n",
       "      <td>-35.4</td>\n",
       "      <td>286.74</td>\n",
       "      <td>65.61</td>\n",
       "    </tr>\n",
       "    <tr>\n",
       "      <th>9</th>\n",
       "      <td>16</td>\n",
       "      <td>83</td>\n",
       "      <td>6.9</td>\n",
       "      <td>27.6</td>\n",
       "      <td>190.44</td>\n",
       "      <td>47.61</td>\n",
       "    </tr>\n",
       "  </tbody>\n",
       "</table>\n",
       "</div>"
      ],
      "text/plain": [
       "    x   y  x minus x_mean  y minus y_mean  product_of_diff_from_mean  \\\n",
       "0   3  30            -6.1           -25.4                     154.94   \n",
       "1   8  57            -1.1             1.6                      -1.76   \n",
       "2   9  64            -0.1             8.6                      -0.86   \n",
       "3  13  72             3.9            16.6                      64.74   \n",
       "4   3  36            -6.1           -19.4                     118.34   \n",
       "5   6  43            -3.1           -12.4                      38.44   \n",
       "6  11  59             1.9             3.6                       6.84   \n",
       "7  21  90            11.9            34.6                     411.74   \n",
       "8   1  20            -8.1           -35.4                     286.74   \n",
       "9  16  83             6.9            27.6                     190.44   \n",
       "\n",
       "   sq of x minus x_mean  \n",
       "0                 37.21  \n",
       "1                  1.21  \n",
       "2                  0.01  \n",
       "3                 15.21  \n",
       "4                 37.21  \n",
       "5                  9.61  \n",
       "6                  3.61  \n",
       "7                141.61  \n",
       "8                 65.61  \n",
       "9                 47.61  "
      ]
     },
     "execution_count": 41,
     "metadata": {},
     "output_type": "execute_result"
    }
   ],
   "source": [
    "df"
   ]
  },
  {
   "cell_type": "code",
   "execution_count": 45,
   "id": "d2a3074d-bb44-454c-8738-572440efc0dd",
   "metadata": {},
   "outputs": [],
   "source": [
    "w1 = df['product_of_diff_from_mean'].sum() / df['sq of x minus x_mean'].sum()"
   ]
  },
  {
   "cell_type": "code",
   "execution_count": 46,
   "id": "7e631261-b82b-4fe6-975b-e8dd2d247b56",
   "metadata": {},
   "outputs": [
    {
     "data": {
      "text/plain": [
       "3.5374756199498467"
      ]
     },
     "execution_count": 46,
     "metadata": {},
     "output_type": "execute_result"
    }
   ],
   "source": [
    "w1"
   ]
  },
  {
   "cell_type": "code",
   "execution_count": 47,
   "id": "49e209fb-cd8a-47c5-a8ae-93730ba3fd95",
   "metadata": {},
   "outputs": [],
   "source": [
    "w0 = y_mean - w1 * x_mean"
   ]
  },
  {
   "cell_type": "code",
   "execution_count": 48,
   "id": "ba8d6ab4-1a52-4e38-b2aa-7f4a7789d52a",
   "metadata": {},
   "outputs": [
    {
     "data": {
      "text/plain": [
       "23.208971858456394"
      ]
     },
     "execution_count": 48,
     "metadata": {},
     "output_type": "execute_result"
    }
   ],
   "source": [
    "w0"
   ]
  },
  {
   "cell_type": "markdown",
   "id": "3e6f367f-1f2b-4631-8a86-efe6268e1323",
   "metadata": {},
   "source": [
    "# Using statistics package"
   ]
  },
  {
   "cell_type": "code",
   "execution_count": 49,
   "id": "657e2094-a7cd-4376-b900-d79a8183581d",
   "metadata": {},
   "outputs": [],
   "source": [
    "import statistics as st"
   ]
  },
  {
   "cell_type": "code",
   "execution_count": 50,
   "id": "ffac479d-6bd4-44be-905b-79e562feb88b",
   "metadata": {},
   "outputs": [],
   "source": [
    "slope, intercept = st.linear_regression(df['x'], df['y'])"
   ]
  },
  {
   "cell_type": "code",
   "execution_count": 51,
   "id": "f9685f27-928f-4317-a0b4-d8961a643869",
   "metadata": {},
   "outputs": [
    {
     "data": {
      "text/plain": [
       "3.5374756199498463"
      ]
     },
     "execution_count": 51,
     "metadata": {},
     "output_type": "execute_result"
    }
   ],
   "source": [
    "slope"
   ]
  },
  {
   "cell_type": "code",
   "execution_count": 52,
   "id": "3005211c-1573-4c00-a45b-1a53e8610dda",
   "metadata": {},
   "outputs": [
    {
     "data": {
      "text/plain": [
       "23.2089718584564"
      ]
     },
     "execution_count": 52,
     "metadata": {},
     "output_type": "execute_result"
    }
   ],
   "source": [
    "intercept"
   ]
  },
  {
   "cell_type": "code",
   "execution_count": null,
   "id": "c58baef3-62f3-4f10-835a-b1338177358a",
   "metadata": {},
   "outputs": [],
   "source": []
  },
  {
   "cell_type": "code",
   "execution_count": null,
   "id": "7c9df793-a881-48e4-bee9-f1718901abb2",
   "metadata": {},
   "outputs": [],
   "source": []
  }
 ],
 "metadata": {
  "kernelspec": {
   "display_name": "py310",
   "language": "python",
   "name": "py310"
  },
  "language_info": {
   "codemirror_mode": {
    "name": "ipython",
    "version": 3
   },
   "file_extension": ".py",
   "mimetype": "text/x-python",
   "name": "python",
   "nbconvert_exporter": "python",
   "pygments_lexer": "ipython3",
   "version": "3.10.10"
  }
 },
 "nbformat": 4,
 "nbformat_minor": 5
}
