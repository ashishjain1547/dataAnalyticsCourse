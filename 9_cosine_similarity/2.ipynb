{
 "cells": [
  {
   "cell_type": "code",
   "execution_count": 29,
   "id": "ff68f4ca-d40c-4838-be2e-95edcbe43129",
   "metadata": {},
   "outputs": [],
   "source": [
    "import random\n",
    "import numpy as np\n",
    "import math\n",
    "from scipy.spatial import distance"
   ]
  },
  {
   "cell_type": "code",
   "execution_count": 10,
   "id": "fd9b207b-1e21-4825-bc87-7388139ed740",
   "metadata": {},
   "outputs": [
    {
     "data": {
      "text/plain": [
       "[1, 0, 1, 0, 1, 1, 0, 0, 0, 0]"
      ]
     },
     "execution_count": 10,
     "metadata": {},
     "output_type": "execute_result"
    }
   ],
   "source": [
    "[random.randint(0, 1) for i in range(0, 10)]"
   ]
  },
  {
   "cell_type": "code",
   "execution_count": 4,
   "id": "f201f0b9-47a2-424a-8520-6dd5f6117373",
   "metadata": {},
   "outputs": [],
   "source": [
    "vector1 = [1, 1, 0, 1, 1, 0, 0, 1, 1, 0]"
   ]
  },
  {
   "cell_type": "code",
   "execution_count": 7,
   "id": "09809184-c544-4c64-8f48-263d1e40288a",
   "metadata": {},
   "outputs": [],
   "source": [
    "vector2 = [1,0,1,0,1,1,1,0,0,0]\n",
    "vector3 = [0, 1, 0, 0, 1, 1, 0, 1, 0, 1]"
   ]
  },
  {
   "cell_type": "code",
   "execution_count": 9,
   "id": "e640e619-4a57-4ee3-8fed-b7689f07b395",
   "metadata": {},
   "outputs": [],
   "source": [
    "vector4 = [1, 0, 0, 0, 0, 1, 0, 1, 0, 0]"
   ]
  },
  {
   "cell_type": "code",
   "execution_count": 11,
   "id": "b60b54ec-fa7b-4bdf-bd49-61b9242eac41",
   "metadata": {},
   "outputs": [],
   "source": [
    "vector5 = [1, 0, 1, 0, 1, 1, 0, 0, 0, 0]"
   ]
  },
  {
   "cell_type": "code",
   "execution_count": 15,
   "id": "bc8eedc8-de9f-4aab-b180-ef97bd777e38",
   "metadata": {},
   "outputs": [],
   "source": [
    "vector1 = [1, 1, 0, 1, 1, 0, 0, 1, 1, 0]\n",
    "vector2 = [1, 0, 1, 0, 1, 1, 1, 0, 0, 0]\n",
    "vector1 = np.array(vector1)\n",
    "vector2 = np.array(vector2)"
   ]
  },
  {
   "cell_type": "code",
   "execution_count": 16,
   "id": "c5003b0f-aae2-48f0-b9f1-f8da3736126b",
   "metadata": {},
   "outputs": [
    {
     "data": {
      "text/plain": [
       "2"
      ]
     },
     "execution_count": 16,
     "metadata": {},
     "output_type": "execute_result"
    }
   ],
   "source": [
    "vector1.dot(vector2)"
   ]
  },
  {
   "cell_type": "code",
   "execution_count": 22,
   "id": "b4c389d7-5171-4316-9026-db522855609b",
   "metadata": {},
   "outputs": [],
   "source": [
    "vector1 = [1, 1, 0, 1, 1, 0, 0, 1, 1, 0]\n",
    "vector2 = [1, 0, 1, 0, 1, 1, 1, 0, 0, 0]\n",
    "vector1 = np.array(vector1)\n",
    "vector2 = np.array(vector2)"
   ]
  },
  {
   "cell_type": "code",
   "execution_count": 23,
   "id": "e07b9b62-0b61-44bf-9a59-9ae1610972b8",
   "metadata": {},
   "outputs": [
    {
     "data": {
      "text/plain": [
       "2.449489742783178"
      ]
     },
     "execution_count": 23,
     "metadata": {},
     "output_type": "execute_result"
    }
   ],
   "source": [
    "np.linalg.norm(vector1, 2)"
   ]
  },
  {
   "cell_type": "code",
   "execution_count": 24,
   "id": "20447630-fd9d-48ec-a4c7-122ed0d059ba",
   "metadata": {},
   "outputs": [
    {
     "data": {
      "text/plain": [
       "2.449489742783178"
      ]
     },
     "execution_count": 24,
     "metadata": {},
     "output_type": "execute_result"
    }
   ],
   "source": [
    "math.sqrt(1**2 + 1**2 + 0 + 1**2 + 1**2 + 0 + 0 + 1**2 + 1**2 + 0)"
   ]
  },
  {
   "cell_type": "code",
   "execution_count": 25,
   "id": "391897b9-9f03-45dc-861e-a6a25c74de43",
   "metadata": {},
   "outputs": [
    {
     "data": {
      "text/plain": [
       "2.23606797749979"
      ]
     },
     "execution_count": 25,
     "metadata": {},
     "output_type": "execute_result"
    }
   ],
   "source": [
    "math.sqrt(1**2 + 0 + 1 + 0 + 1 + 1 + 1 + 0 + 0 + 0)"
   ]
  },
  {
   "cell_type": "code",
   "execution_count": 26,
   "id": "aca3f317-8d1c-4a29-9924-39915a1ff502",
   "metadata": {},
   "outputs": [
    {
     "data": {
      "text/plain": [
       "2.23606797749979"
      ]
     },
     "execution_count": 26,
     "metadata": {},
     "output_type": "execute_result"
    }
   ],
   "source": [
    "np.linalg.norm(vector2, 2)"
   ]
  },
  {
   "cell_type": "code",
   "execution_count": 27,
   "id": "04240ba2-ecdc-4fae-b065-721e8b6b7ea9",
   "metadata": {},
   "outputs": [
    {
     "data": {
      "text/plain": [
       "0.3652324960500105"
      ]
     },
     "execution_count": 27,
     "metadata": {},
     "output_type": "execute_result"
    }
   ],
   "source": [
    "2 / ( 2.449 * 2.236 )"
   ]
  },
  {
   "cell_type": "markdown",
   "id": "c487965c-37ac-4b40-9e60-cc686fcf2ea9",
   "metadata": {},
   "source": [
    "# similarity = 1 - dissimilarity"
   ]
  },
  {
   "cell_type": "markdown",
   "id": "80cad599-fd0e-4382-9ada-03337e6efb04",
   "metadata": {},
   "source": [
    "### distance.cosine(vector1, vector2) : it gives dissimilarity"
   ]
  },
  {
   "cell_type": "code",
   "execution_count": 31,
   "id": "8e4c31f3-2462-4bc7-af6b-71fe0935cbe1",
   "metadata": {},
   "outputs": [
    {
     "name": "stdout",
     "output_type": "stream",
     "text": [
      "0.3651483716701107\n"
     ]
    }
   ],
   "source": [
    "from scipy.spatial import distance\n",
    "\n",
    "vector1 = [1, 1, 0, 1, 1, 0, 0, 1, 1, 0]\n",
    "vector2 = [1, 0, 1, 0, 1, 1, 1, 0, 0, 0]\n",
    "vector1 = np.array(vector1)\n",
    "vector2 = np.array(vector2)\n",
    "\n",
    "print(1 - distance.cosine(vector1, vector2))"
   ]
  },
  {
   "cell_type": "code",
   "execution_count": null,
   "id": "944f28ce-d0c1-4620-9651-afdee9ad8287",
   "metadata": {},
   "outputs": [],
   "source": []
  }
 ],
 "metadata": {
  "kernelspec": {
   "display_name": "Python 3 (ipykernel)",
   "language": "python",
   "name": "python3"
  },
  "language_info": {
   "codemirror_mode": {
    "name": "ipython",
    "version": 3
   },
   "file_extension": ".py",
   "mimetype": "text/x-python",
   "name": "python",
   "nbconvert_exporter": "python",
   "pygments_lexer": "ipython3",
   "version": "3.9.13"
  }
 },
 "nbformat": 4,
 "nbformat_minor": 5
}
