{
 "cells": [
  {
   "cell_type": "markdown",
   "id": "cf31b260-7092-4713-b28f-35b0c2d8f925",
   "metadata": {},
   "source": [
    "# Euclidean Distance"
   ]
  },
  {
   "cell_type": "code",
   "execution_count": 14,
   "id": "59ad1482-206a-4e3a-b758-5292b2460773",
   "metadata": {},
   "outputs": [],
   "source": [
    "from scipy.spatial import distance"
   ]
  },
  {
   "cell_type": "code",
   "execution_count": 4,
   "id": "3c181bb3-1c66-48c8-8108-5b5acb989425",
   "metadata": {},
   "outputs": [
    {
     "name": "stdout",
     "output_type": "stream",
     "text": [
      "1.4142135623730951\n"
     ]
    }
   ],
   "source": [
    "import math\n",
    "A = (2, 4)\n",
    "B = (1, 3)\n",
    "print(math.dist(A, B))"
   ]
  },
  {
   "cell_type": "code",
   "execution_count": 5,
   "id": "9877bc22-2e8e-48c4-9f51-1034b89e4df3",
   "metadata": {},
   "outputs": [
    {
     "name": "stdout",
     "output_type": "stream",
     "text": [
      "4.58257569495584\n"
     ]
    }
   ],
   "source": [
    "A = (2, 7, 5)\n",
    "B = (4, 8, 9)\n",
    "print(math.dist(A, B))"
   ]
  },
  {
   "cell_type": "code",
   "execution_count": 7,
   "id": "d34a9ef0-b8a1-4ba5-8274-5e42ecc49594",
   "metadata": {},
   "outputs": [
    {
     "name": "stdout",
     "output_type": "stream",
     "text": [
      "2.8284271247461903\n"
     ]
    }
   ],
   "source": [
    "import numpy as np\n",
    "p1 = np.array((1,2,3))\n",
    "p2 = np.array((3,2,1))\n",
    "sq = np.sum(np.square(p1 - p2))\n",
    "print(np.sqrt(sq))"
   ]
  },
  {
   "cell_type": "code",
   "execution_count": 15,
   "id": "dce2a278-a64a-4ee7-a34a-0e93fc774d75",
   "metadata": {},
   "outputs": [
    {
     "data": {
      "text/plain": [
       "2.8284271247461903"
      ]
     },
     "execution_count": 15,
     "metadata": {},
     "output_type": "execute_result"
    }
   ],
   "source": [
    "distance.euclidean(p1, p2)"
   ]
  },
  {
   "cell_type": "markdown",
   "id": "06bd69cd-1ca5-489b-99ed-193c83559de1",
   "metadata": {},
   "source": [
    "# Manhattan Distance"
   ]
  },
  {
   "cell_type": "code",
   "execution_count": 24,
   "id": "511e281e-40f2-4781-b7d8-a42b47848be2",
   "metadata": {},
   "outputs": [
    {
     "data": {
      "text/plain": [
       "9"
      ]
     },
     "execution_count": 24,
     "metadata": {},
     "output_type": "execute_result"
    }
   ],
   "source": [
    "def manhattan(a, b):\n",
    "    return sum(abs(val1-val2) for val1, val2 in zip(a,b))\n",
    " \n",
    "#define vectors\n",
    "A = [2, 4, 4, 6]\n",
    "B = [5, 5, 7, 8]\n",
    "\n",
    "#calculate Manhattan distance between vectors\n",
    "manhattan(A, B)"
   ]
  },
  {
   "cell_type": "code",
   "execution_count": 21,
   "id": "9672069b-7183-42bf-a6fc-c973a1466568",
   "metadata": {},
   "outputs": [
    {
     "name": "stdout",
     "output_type": "stream",
     "text": [
      "2\n"
     ]
    }
   ],
   "source": [
    "A = (2, 4)\n",
    "B = (1, 3)\n",
    "A = np.array(A)\n",
    "B = np.array(B)\n",
    "print(np.sum(np.abs(A - B)))"
   ]
  },
  {
   "cell_type": "code",
   "execution_count": 22,
   "id": "ed547877-b61a-4c9d-a949-2bdf68a1371f",
   "metadata": {},
   "outputs": [
    {
     "name": "stdout",
     "output_type": "stream",
     "text": [
      "7\n"
     ]
    }
   ],
   "source": [
    "A = (2, 7, 5)\n",
    "B = (4, 8, 9)\n",
    "A = np.array(A)\n",
    "B = np.array(B)\n",
    "print(np.sum(np.abs(A - B)))"
   ]
  },
  {
   "cell_type": "code",
   "execution_count": 23,
   "id": "1a7c6526-0827-4533-9d1c-0051adb23e12",
   "metadata": {},
   "outputs": [
    {
     "name": "stdout",
     "output_type": "stream",
     "text": [
      "4\n"
     ]
    }
   ],
   "source": [
    "import numpy as np\n",
    "p1 = np.array((1,2,3))\n",
    "p2 = np.array((3,2,1))\n",
    "print(np.sum(np.abs(p1 - p2)))"
   ]
  },
  {
   "cell_type": "code",
   "execution_count": 25,
   "id": "826c84d5-c650-405e-a277-037040e7dbdd",
   "metadata": {},
   "outputs": [
    {
     "name": "stdout",
     "output_type": "stream",
     "text": [
      "4\n"
     ]
    }
   ],
   "source": [
    "from scipy.spatial import distance\n",
    "print(distance.cityblock(p1, p2))"
   ]
  },
  {
   "cell_type": "markdown",
   "id": "86bfa33f-2387-45d3-8fe6-f44d8942da48",
   "metadata": {},
   "source": [
    "# Minkowski Distance"
   ]
  },
  {
   "cell_type": "code",
   "execution_count": 29,
   "id": "09dc1f12-9c51-4e57-a349-4e886ca8999b",
   "metadata": {},
   "outputs": [],
   "source": [
    "from scipy.spatial import distance\n",
    "import numpy as np\n",
    "u = np.array((1,2,3))\n",
    "v = np.array((3,2,1))"
   ]
  },
  {
   "cell_type": "code",
   "execution_count": 30,
   "id": "0dda6c7f-efcd-4273-b1ca-152f06f2e402",
   "metadata": {},
   "outputs": [
    {
     "data": {
      "text/plain": [
       "2.5198420997897464"
      ]
     },
     "execution_count": 30,
     "metadata": {},
     "output_type": "execute_result"
    }
   ],
   "source": [
    "distance.minkowski(u, v, p=3)"
   ]
  },
  {
   "cell_type": "code",
   "execution_count": 31,
   "id": "91cff852-0de9-4d7c-bb31-d977053248a4",
   "metadata": {},
   "outputs": [
    {
     "data": {
      "text/plain": [
       "6.153449493663682"
      ]
     },
     "execution_count": 31,
     "metadata": {},
     "output_type": "execute_result"
    }
   ],
   "source": [
    "u = np.array((22, 1, 42, 10))\n",
    "v = np.array((20, 0, 36, 8))\n",
    "distance.minkowski(u, v, p=3)"
   ]
  },
  {
   "cell_type": "code",
   "execution_count": null,
   "id": "d1a8a48a-3cad-42dc-9320-19a9d8853a9c",
   "metadata": {},
   "outputs": [],
   "source": []
  }
 ],
 "metadata": {
  "kernelspec": {
   "display_name": "Python 3 (ipykernel)",
   "language": "python",
   "name": "python3"
  },
  "language_info": {
   "codemirror_mode": {
    "name": "ipython",
    "version": 3
   },
   "file_extension": ".py",
   "mimetype": "text/x-python",
   "name": "python",
   "nbconvert_exporter": "python",
   "pygments_lexer": "ipython3",
   "version": "3.9.13"
  }
 },
 "nbformat": 4,
 "nbformat_minor": 5
}
